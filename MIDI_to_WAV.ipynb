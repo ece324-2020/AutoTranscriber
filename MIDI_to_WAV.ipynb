{
  "nbformat": 4,
  "nbformat_minor": 0,
  "metadata": {
    "colab": {
      "name": "MIDI_to_WAV.ipynb",
      "provenance": []
    },
    "kernelspec": {
      "name": "python3",
      "display_name": "Python 3"
    }
  },
  "cells": [
    {
      "cell_type": "markdown",
      "metadata": {
        "id": "N17MU1pAWefN"
      },
      "source": [
        "Notebook converts MIDI to WAV file to find difference between input and output wav"
      ]
    },
    {
      "cell_type": "code",
      "metadata": {
        "colab": {
          "base_uri": "https://localhost:8080/"
        },
        "id": "oTuJ297ZWZQY",
        "outputId": "b487fec0-8219-4417-966b-466ed08805de"
      },
      "source": [
        "from google.colab import drive\n",
        "import os\n",
        "drive.mount('/content/drive')\n",
        "root = '/content/drive/My Drive/_project/AutoTranscriber-recordings'\n",
        "os.chdir(root)"
      ],
      "execution_count": 1,
      "outputs": [
        {
          "output_type": "stream",
          "text": [
            "Mounted at /content/drive\n"
          ],
          "name": "stdout"
        }
      ]
    },
    {
      "cell_type": "markdown",
      "metadata": {
        "id": "QBtNzJ6uXBbX"
      },
      "source": [
        "uses FluidSynth for audio output"
      ]
    },
    {
      "cell_type": "code",
      "metadata": {
        "colab": {
          "base_uri": "https://localhost:8080/"
        },
        "id": "8Ltd1ZwKWcqt",
        "outputId": "ead0d828-88e2-4516-ebe1-04374022d14e"
      },
      "source": [
        "!apt install fluidsynth\n",
        "!cp /usr/share/sounds/sf2/FluidR3_GM.sf2 ./font.sf2"
      ],
      "execution_count": 2,
      "outputs": [
        {
          "output_type": "stream",
          "text": [
            "Reading package lists... Done\n",
            "Building dependency tree       \n",
            "Reading state information... Done\n",
            "The following additional packages will be installed:\n",
            "  fluid-soundfont-gm libfluidsynth1 libqt5x11extras5 qsynth\n",
            "Suggested packages:\n",
            "  fluid-soundfont-gs timidity jackd\n",
            "The following NEW packages will be installed:\n",
            "  fluid-soundfont-gm fluidsynth libfluidsynth1 libqt5x11extras5 qsynth\n",
            "0 upgraded, 5 newly installed, 0 to remove and 14 not upgraded.\n",
            "Need to get 120 MB of archives.\n",
            "After this operation, 150 MB of additional disk space will be used.\n",
            "Get:1 http://archive.ubuntu.com/ubuntu bionic/universe amd64 fluid-soundfont-gm all 3.1-5.1 [119 MB]\n",
            "Get:2 http://archive.ubuntu.com/ubuntu bionic/universe amd64 libfluidsynth1 amd64 1.1.9-1 [137 kB]\n",
            "Get:3 http://archive.ubuntu.com/ubuntu bionic/universe amd64 fluidsynth amd64 1.1.9-1 [20.7 kB]\n",
            "Get:4 http://archive.ubuntu.com/ubuntu bionic/universe amd64 libqt5x11extras5 amd64 5.9.5-0ubuntu1 [8,596 B]\n",
            "Get:5 http://archive.ubuntu.com/ubuntu bionic/universe amd64 qsynth amd64 0.5.0-2 [191 kB]\n",
            "Fetched 120 MB in 4s (27.1 MB/s)\n",
            "Selecting previously unselected package fluid-soundfont-gm.\n",
            "(Reading database ... 144793 files and directories currently installed.)\n",
            "Preparing to unpack .../fluid-soundfont-gm_3.1-5.1_all.deb ...\n",
            "Unpacking fluid-soundfont-gm (3.1-5.1) ...\n",
            "Selecting previously unselected package libfluidsynth1:amd64.\n",
            "Preparing to unpack .../libfluidsynth1_1.1.9-1_amd64.deb ...\n",
            "Unpacking libfluidsynth1:amd64 (1.1.9-1) ...\n",
            "Selecting previously unselected package fluidsynth.\n",
            "Preparing to unpack .../fluidsynth_1.1.9-1_amd64.deb ...\n",
            "Unpacking fluidsynth (1.1.9-1) ...\n",
            "Selecting previously unselected package libqt5x11extras5:amd64.\n",
            "Preparing to unpack .../libqt5x11extras5_5.9.5-0ubuntu1_amd64.deb ...\n",
            "Unpacking libqt5x11extras5:amd64 (5.9.5-0ubuntu1) ...\n",
            "Selecting previously unselected package qsynth.\n",
            "Preparing to unpack .../qsynth_0.5.0-2_amd64.deb ...\n",
            "Unpacking qsynth (0.5.0-2) ...\n",
            "Setting up libqt5x11extras5:amd64 (5.9.5-0ubuntu1) ...\n",
            "Setting up fluid-soundfont-gm (3.1-5.1) ...\n",
            "Setting up libfluidsynth1:amd64 (1.1.9-1) ...\n",
            "Setting up fluidsynth (1.1.9-1) ...\n",
            "Setting up qsynth (0.5.0-2) ...\n",
            "Processing triggers for hicolor-icon-theme (0.17-2) ...\n",
            "Processing triggers for mime-support (3.60ubuntu1) ...\n",
            "Processing triggers for libc-bin (2.27-3ubuntu1.2) ...\n",
            "/sbin/ldconfig.real: /usr/local/lib/python3.6/dist-packages/ideep4py/lib/libmkldnn.so.0 is not a symbolic link\n",
            "\n",
            "Processing triggers for man-db (2.8.3-2ubuntu0.1) ...\n"
          ],
          "name": "stdout"
        }
      ]
    },
    {
      "cell_type": "code",
      "metadata": {
        "colab": {
          "base_uri": "https://localhost:8080/"
        },
        "id": "usmvSbL_XFaL",
        "outputId": "ccd7cd19-8093-4384-9fe7-d4fdc497f796"
      },
      "source": [
        "mid_list = []\n",
        "for file in os.listdir(root):\n",
        "    if file.endswith(\".mid\"):\n",
        "        mid_list.append(file)\n",
        "mid_list.sort()\n",
        "print(mid_list)"
      ],
      "execution_count": 4,
      "outputs": [
        {
          "output_type": "stream",
          "text": [
            "['Air_1.mid', 'Aria_1.mid', 'CanonInD_1.mid', 'CanonInD_17.mid', 'CanonInD_37.mid', 'Dora_1.mid', 'Elmo_1.mid', 'Elvis_1.mid', 'Faded_1.mid', 'Fantasia(Handel)_1.mid', 'FantasiaTelemann_1.mid', 'FolkDance_1.mid', 'Gymnopedie_1.mid', 'Gymnopedie_17.mid', 'Gymnopedie_37.mid', 'Lovely_1.mid', 'Lovely_44.mid', 'MinuetFHaydn_1.mid', 'MinuetFMozart_1.mid', 'MinuetteInG_1.mid', 'MoonlightSonata_1.mid', 'MoonlightSonata_20.mid', 'MoonlightSonata_35.mid', 'MoonlightSonata_44.mid', 'MorningMood_1.mid', 'NoctureDflat_1.mid', 'NocturneDflat_16.mid', 'OCanada_1.mid', 'Prelude(Bach)_1.mid', 'Prelude(Bach)_13.mid', 'PreludeinGminor_1.mid', 'Quadrille_1.mid', 'Spongebob_1.mid', 'TheLark_1.mid', 'TheLark_13.mid']\n"
          ],
          "name": "stdout"
        }
      ]
    },
    {
      "cell_type": "code",
      "metadata": {
        "id": "GxU_m52tXbAO"
      },
      "source": [
        "from IPython.display import Audio"
      ],
      "execution_count": 5,
      "outputs": []
    },
    {
      "cell_type": "code",
      "metadata": {
        "colab": {
          "base_uri": "https://localhost:8080/"
        },
        "id": "D8B8R0d3XOAj",
        "outputId": "cf7ab4fd-01f4-4ec8-a52f-25cd09d21f50"
      },
      "source": [
        "!fluidsynth -ni font.sf2 PreludeinGminor_1.mid -F PreludeinGminor_1_m2w.wav -r 44100\n",
        "Audio('PreludeinGminor_1_m2w.wav')"
      ],
      "execution_count": 24,
      "outputs": [
        {
          "output_type": "stream",
          "text": [
            "FluidSynth version 1.1.9\n",
            "Copyright (C) 2000-2018 Peter Hanappe and others.\n",
            "Distributed under the LGPL license.\n",
            "SoundFont(R) is a registered trademark of E-mu Systems, Inc.\n",
            "\n",
            "Rendering audio to file 'PreludeinGminor_1_m2w.wav'..\n"
          ],
          "name": "stdout"
        }
      ]
    }
  ]
}