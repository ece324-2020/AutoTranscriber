{
  "nbformat": 4,
  "nbformat_minor": 0,
  "metadata": {
    "colab": {
      "name": "MIDI_clipper2.ipynb",
      "provenance": [],
      "collapsed_sections": []
    },
    "kernelspec": {
      "name": "python3",
      "display_name": "Python 3"
    }
  },
  "cells": [
    {
      "cell_type": "code",
      "metadata": {
        "colab": {
          "base_uri": "https://localhost:8080/"
        },
        "id": "tAiiaiUXR5ih",
        "outputId": "7096e76f-c422-4a67-df44-3e19a93a6ecd"
      },
      "source": [
        "from google.colab import drive\n",
        "import os\n",
        "drive.mount('/content/drive')\n",
        "root = '/content/drive/My Drive/_project'\n",
        "os.chdir(root)"
      ],
      "execution_count": 1,
      "outputs": [
        {
          "output_type": "stream",
          "text": [
            "Mounted at /content/drive\n"
          ],
          "name": "stdout"
        }
      ]
    },
    {
      "cell_type": "code",
      "metadata": {
        "id": "l_xI9NOFSUus"
      },
      "source": [
        "# Load libraries\n",
        "\n",
        "import os\n",
        "import numpy as np\n",
        "import pretty_midi\n",
        "from reverse_pianoroll import *\n",
        "from collections import Counter"
      ],
      "execution_count": 8,
      "outputs": []
    },
    {
      "cell_type": "code",
      "metadata": {
        "id": "qAexUcMFSZm6"
      },
      "source": [
        "# User parameters\n",
        "os.chdir('/content/drive/My Drive/_project/AutoTranscriber-recordings')\n",
        "path = os.getcwd()\n",
        "sampling_frequency = 31 # sampling rate for MIDI files\n",
        "partition_size = 20 # number of seconds each partition of the song should be"
      ],
      "execution_count": 6,
      "outputs": []
    },
    {
      "cell_type": "code",
      "metadata": {
        "colab": {
          "base_uri": "https://localhost:8080/"
        },
        "id": "tDoPZI9NfyJa",
        "outputId": "e97daf67-4894-4b82-a933-b3718fd9a9e1"
      },
      "source": [
        "wav_path = '/content/drive/My Drive/_project/AutoTranscriber-recordings/adjusted/spec'\n",
        "wav_list = []\n",
        "for file in os.listdir(wav_path):\n",
        "    if file.endswith(\".npy\"):\n",
        "        wav_list.append(file)\n",
        "wav_list.sort()\n",
        "\n",
        "name_list = []\n",
        "for wav_file in wav_list:\n",
        "  name, u = wav_file.split('_a')\n",
        "  name_list.append(name)\n",
        "# Dictionary containing the frequency of each wav file (from spectogram)\n",
        "count_dict = dict(Counter(name_list))\n"
      ],
      "execution_count": 9,
      "outputs": [
        {
          "output_type": "stream",
          "text": [
            "['Air_1_adjusted_1.npy', 'Aria_1_adjusted_1.npy', 'CanonInD_17_adjusted_1.npy', 'CanonInD_17_adjusted_2.npy', 'CanonInD_1_adjusted_1.npy', 'CanonInD_37_adjusted_1.npy', 'CanonInD_37_adjusted_2.npy', 'Dora_1_adjusted_1.npy', 'Dora_1_adjusted_2.npy', 'Elmo_1_adjusted_1.npy', 'Elmo_1_adjusted_2.npy', 'Elvis_1_adjusted_1.npy', 'Elvis_1_adjusted_2.npy', 'Faded_1_adjusted_1.npy', 'Fantasia(Handel)_1_adjusted_1.npy', 'Fantasia(Handel)_1_adjusted_2.npy', 'Fantasia(Handel)_30_adjusted_1.npy', 'Fantasia(Handel)_30_adjusted_2.npy', 'FantasiaTelemann_1_adjusted_1.npy', 'FantasiaTelemann_1_adjusted_2.npy', 'FolkDance_1_adjusted_1.npy', 'FolkDance_1_adjusted_2.npy', 'Gymnopedie_17_adjusted_1.npy', 'Gymnopedie_17_adjusted_2.npy', 'Gymnopedie_17_adjusted_3.npy', 'Gymnopedie_1_adjusted_1.npy', 'Gymnopedie_1_adjusted_2.npy', 'Gymnopedie_37_adjusted_1.npy', 'Gymnopedie_37_adjusted_2.npy', 'Gymnopedie_37_adjusted_3.npy', 'Gymnopedie_37_adjusted_4.npy', 'Gymnopedie_37_adjusted_5.npy', 'Gymnopedie_37_adjusted_6.npy', 'Lovely_1_adjusted_1.npy', 'Lovely_1_adjusted_2.npy', 'Lovely_1_adjusted_3.npy', 'Lovely_1_adjusted_4.npy', 'Lovely_44_adjusted_1.npy', 'Lovely_44_adjusted_2.npy', 'Lovely_44_adjusted_3.npy', 'Lovely_44_adjusted_4.npy', 'MinuetFHaydn_1_adjusted_1.npy', 'MinuetFMozart_1_adjusted_1.npy', 'MinuetFMozart_1_adjusted_2.npy', 'MinuetteInG_1_adjusted_1.npy', 'MinuetteInG_1_adjusted_2.npy', 'MoonlightSonata_1_adjusted_1.npy', 'MoonlightSonata_1_adjusted_2.npy', 'MoonlightSonata_1_adjusted_3.npy', 'MoonlightSonata_1_adjusted_4.npy', 'MoonlightSonata_1_adjusted_5.npy', 'MoonlightSonata_20_adjusted_1.npy', 'MoonlightSonata_20_adjusted_2.npy', 'MoonlightSonata_20_adjusted_3.npy', 'MoonlightSonata_20_adjusted_4.npy', 'MoonlightSonata_35_adjusted_1.npy', 'MoonlightSonata_35_adjusted_2.npy', 'MoonlightSonata_35_adjusted_3.npy', 'MoonlightSonata_44_adjusted_1.npy', 'MoonlightSonata_44_adjusted_2.npy', 'MoonlightSonata_44_adjusted_3.npy', 'MoonlightSonata_44_adjusted_4.npy', 'MoonlightSonata_44_adjusted_5.npy', 'MoonlightSonata_44_adjusted_6.npy', 'MoonlightSonata_44_adjusted_7.npy', 'MorningMood_1_adjusted_1.npy', 'MorningMood_1_adjusted_2.npy', 'NocturneDflat_16_adjusted_1.npy', 'NocturneDflat_16_adjusted_2.npy', 'NocturneDflat_16_adjusted_3.npy', 'NocturneDflat_1_adjusted_1.npy', 'NocturneDflat_1_adjusted_2.npy', 'OCanada_1_adjusted_1.npy', 'OCanada_1_adjusted_2.npy', 'Prelude(Bach)_13_adjusted_1.npy', 'Prelude(Bach)_1_adjusted_1.npy', 'Prelude(Bach)_1_adjusted_2.npy', 'PreludeinGminor_1_adjusted_1.npy', 'Quadrille_1_adjusted_1.npy', 'Spongebob_1_adjusted_1.npy', 'TheLark_13_adjusted_1.npy', 'TheLark_13_adjusted_2.npy', 'TheLark_1_adjusted_1.npy', 'TheLark_1_adjusted_2.npy', 'TheLark_1_adjusted_3.npy', 'TheLark_1_adjusted_4.npy', 'TheLark_1_adjusted_5.npy']\n",
            "87\n",
            "['Air_1', 'Aria_1', 'CanonInD_17', 'CanonInD_17', 'CanonInD_1', 'CanonInD_37', 'CanonInD_37', 'Dora_1', 'Dora_1', 'Elmo_1', 'Elmo_1', 'Elvis_1', 'Elvis_1', 'Faded_1', 'Fantasia(Handel)_1', 'Fantasia(Handel)_1', 'Fantasia(Handel)_30', 'Fantasia(Handel)_30', 'FantasiaTelemann_1', 'FantasiaTelemann_1', 'FolkDance_1', 'FolkDance_1', 'Gymnopedie_17', 'Gymnopedie_17', 'Gymnopedie_17', 'Gymnopedie_1', 'Gymnopedie_1', 'Gymnopedie_37', 'Gymnopedie_37', 'Gymnopedie_37', 'Gymnopedie_37', 'Gymnopedie_37', 'Gymnopedie_37', 'Lovely_1', 'Lovely_1', 'Lovely_1', 'Lovely_1', 'Lovely_44', 'Lovely_44', 'Lovely_44', 'Lovely_44', 'MinuetFHaydn_1', 'MinuetFMozart_1', 'MinuetFMozart_1', 'MinuetteInG_1', 'MinuetteInG_1', 'MoonlightSonata_1', 'MoonlightSonata_1', 'MoonlightSonata_1', 'MoonlightSonata_1', 'MoonlightSonata_1', 'MoonlightSonata_20', 'MoonlightSonata_20', 'MoonlightSonata_20', 'MoonlightSonata_20', 'MoonlightSonata_35', 'MoonlightSonata_35', 'MoonlightSonata_35', 'MoonlightSonata_44', 'MoonlightSonata_44', 'MoonlightSonata_44', 'MoonlightSonata_44', 'MoonlightSonata_44', 'MoonlightSonata_44', 'MoonlightSonata_44', 'MorningMood_1', 'MorningMood_1', 'NocturneDflat_16', 'NocturneDflat_16', 'NocturneDflat_16', 'NocturneDflat_1', 'NocturneDflat_1', 'OCanada_1', 'OCanada_1', 'Prelude(Bach)_13', 'Prelude(Bach)_1', 'Prelude(Bach)_1', 'PreludeinGminor_1', 'Quadrille_1', 'Spongebob_1', 'TheLark_13', 'TheLark_13', 'TheLark_1', 'TheLark_1', 'TheLark_1', 'TheLark_1', 'TheLark_1']\n",
            "87\n",
            "{'Air_1': 1, 'Aria_1': 1, 'CanonInD_17': 2, 'CanonInD_1': 1, 'CanonInD_37': 2, 'Dora_1': 2, 'Elmo_1': 2, 'Elvis_1': 2, 'Faded_1': 1, 'Fantasia(Handel)_1': 2, 'Fantasia(Handel)_30': 2, 'FantasiaTelemann_1': 2, 'FolkDance_1': 2, 'Gymnopedie_17': 3, 'Gymnopedie_1': 2, 'Gymnopedie_37': 6, 'Lovely_1': 4, 'Lovely_44': 4, 'MinuetFHaydn_1': 1, 'MinuetFMozart_1': 2, 'MinuetteInG_1': 2, 'MoonlightSonata_1': 5, 'MoonlightSonata_20': 4, 'MoonlightSonata_35': 3, 'MoonlightSonata_44': 7, 'MorningMood_1': 2, 'NocturneDflat_16': 3, 'NocturneDflat_1': 2, 'OCanada_1': 2, 'Prelude(Bach)_13': 1, 'Prelude(Bach)_1': 2, 'PreludeinGminor_1': 1, 'Quadrille_1': 1, 'Spongebob_1': 1, 'TheLark_13': 2, 'TheLark_1': 5}\n"
          ],
          "name": "stdout"
        }
      ]
    },
    {
      "cell_type": "code",
      "metadata": {
        "colab": {
          "base_uri": "https://localhost:8080/"
        },
        "id": "U7kbzOdujxGM",
        "outputId": "5bba6d30-a01a-43fc-f9ec-e71137ac58ed"
      },
      "source": [
        "mid_list = []\n",
        "for file in os.listdir(path):\n",
        "    if file.endswith(\".mid\"):\n",
        "        mid_list.append(file)\n",
        "mid_list.sort()"
      ],
      "execution_count": 17,
      "outputs": [
        {
          "output_type": "stream",
          "text": [
            "['Air_1.mid', 'Aria_1.mid', 'CanonInD_1.mid', 'CanonInD_17.mid', 'CanonInD_37.mid', 'Dora_1.mid', 'Elmo_1.mid', 'Elvis_1.mid', 'Faded_1.mid', 'Fantasia(Handel)_1.mid', 'FantasiaTelemann_1.mid', 'FolkDance_1.mid', 'Gymnopedie_1.mid', 'Gymnopedie_17.mid', 'Gymnopedie_37.mid', 'Lovely_1.mid', 'Lovely_44.mid', 'MinuetFHaydn_1.mid', 'MinuetFMozart_1.mid', 'MinuetteInG_1.mid', 'MoonlightSonata_1.mid', 'MoonlightSonata_20.mid', 'MoonlightSonata_35.mid', 'MoonlightSonata_44.mid', 'MorningMood_1.mid', 'NocturneDflat_1.mid', 'NocturneDflat_16.mid', 'OCanada_1.mid', 'Prelude(Bach)_1.mid', 'Prelude(Bach)_13.mid', 'PreludeinGminor_1.mid', 'Quadrille_1.mid', 'Spongebob_1.mid', 'TheLark_1.mid', 'TheLark_13.mid']\n",
            "35\n"
          ],
          "name": "stdout"
        }
      ]
    },
    {
      "cell_type": "code",
      "metadata": {
        "colab": {
          "base_uri": "https://localhost:8080/"
        },
        "id": "Sz9ZK9RhS7uz",
        "outputId": "d0a42b63-a15f-4458-f899-f52ce2684f59"
      },
      "source": [
        "new_path = os.path.join(path+'/midi_crop/')\n",
        "\n",
        "for file in mid_list:\n",
        "  mid_name, ext = os.path.splitext(file)\n",
        "  #print(mid_name)\n",
        "  # Load MIDI file\n",
        "  midi = pretty_midi.PrettyMIDI(os.path.join(path,file))\n",
        "  piano_notes = midi.get_piano_roll(fs=sampling_frequency)\n",
        "        \n",
        "  # Get each partition of the MIDI and save it\n",
        "  num_partitions = int(piano_notes.shape[1]/sampling_frequency/partition_size)\n",
        "\n",
        "  # Only crop the file for the number of partitions we need\n",
        "  if num_partitions > count_dict[mid_name]:\n",
        "    #print(num_partitions)\n",
        "    num_partitions = count_dict[mid_name]\n",
        "    #print(num_partitions)\n",
        "\n",
        "  for i in range(num_partitions):   \n",
        "    audio_start = int(i*partition_size*sampling_frequency)\n",
        "    audio_end = int((i+1)*partition_size*sampling_frequency)\n",
        "    piano_clip = piano_notes[:, audio_start:audio_end].astype(np.int)\n",
        "    piano_clip[piano_clip > 127] = 127\n",
        "    \n",
        "    # convert piano roll clip to midi\n",
        "    midi_clip = piano_roll_to_pretty_midi(piano_clip, fs=sampling_frequency)\n",
        "    midi_clip.write(os.path.join(new_path,file[:-4]+\"_\"+str(i+1)+\".mid\"))"
      ],
      "execution_count": 31,
      "outputs": [
        {
          "output_type": "stream",
          "text": [
            "/usr/local/lib/python3.6/dist-packages/pretty_midi/pretty_midi.py:101: RuntimeWarning: Tempo, Key or Time signature change events found on non-zero tracks.  This is not a valid type 0 or type 1 MIDI file.  Tempo, Key or Time Signature may be wrong.\n",
            "  RuntimeWarning)\n"
          ],
          "name": "stderr"
        }
      ]
    }
  ]
}