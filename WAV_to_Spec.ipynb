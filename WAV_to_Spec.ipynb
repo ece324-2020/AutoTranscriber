{
 "cells": [
  {
   "cell_type": "markdown",
   "metadata": {},
   "source": [
    "This notebook partitions WAV files and saves their corresponding spectrograms.\n",
    "\n",
    "Many hyperparameters are chosen based on: https://arxiv.org/pdf/1710.11153.pdf (Onsets and Frames)"
   ]
  },
  {
   "cell_type": "code",
   "execution_count": 4,
   "metadata": {},
   "outputs": [],
   "source": [
    "# Load libraries\n",
    "\n",
    "import librosa\n",
    "import numpy as np\n",
    "import os\n",
    "from tqdm import tqdm"
   ]
  },
  {
   "cell_type": "code",
   "execution_count": 2,
   "metadata": {},
   "outputs": [],
   "source": [
    "# User parameters\n",
    "\n",
    "path = os.getcwd()\n",
    "sampling_rate = 16000 # 22050 is default, 16000 is to match the paper; sampling rate for WAV files\n",
    "num_freq_bins = 229\n",
    "partition_size = 20 # number of seconds each partition of the song should be"
   ]
  },
  {
   "cell_type": "markdown",
   "metadata": {},
   "source": [
    "### Processing WAV Files"
   ]
  },
  {
   "cell_type": "code",
   "execution_count": 5,
   "metadata": {
    "scrolled": true
   },
   "outputs": [
    {
     "name": "stderr",
     "output_type": "stream",
     "text": [
      "100%|██████████████████████████████████████████████████████████████████████████████████| 19/19 [00:12<00:00,  1.46it/s]\n"
     ]
    }
   ],
   "source": [
    "for file in tqdm(os.listdir(path)):\n",
    "\n",
    "    if file.endswith('.wav'):\n",
    "    \n",
    "        # Load WAV file\n",
    "        audio, _ = librosa.core.load(file, sr=sampling_rate)\n",
    "        \n",
    "        # Compute spectrogram on each partition of the song and save it\n",
    "        num_partitions = int(len(audio)/sampling_rate/partition_size)\n",
    "        for i in range(num_partitions):\n",
    "            \n",
    "            audio_start = i*partition_size*sampling_rate\n",
    "            audio_end = (i+1)*partition_size*sampling_rate\n",
    "            mel_spec = librosa.feature.melspectrogram(y=audio[audio_start:audio_end], sr=sampling_rate, \n",
    "                                                      n_mels=num_freq_bins)\n",
    "            log_mel_spec = librosa.power_to_db(mel_spec) # compute the log of the amplitudes\n",
    "            \n",
    "            with open(file[:-4] + '_' + str(i+1) + '.npy', 'wb') as np_file:\n",
    "                np.save(np_file, log_mel_spec)"
   ]
  },
  {
   "cell_type": "markdown",
   "metadata": {},
   "source": [
    "Saved spectrograms will be used as inputs to the network."
   ]
  }
 ],
 "metadata": {
  "kernelspec": {
   "display_name": "Python 3",
   "language": "python",
   "name": "python3"
  },
  "language_info": {
   "codemirror_mode": {
    "name": "ipython",
    "version": 3
   },
   "file_extension": ".py",
   "mimetype": "text/x-python",
   "name": "python",
   "nbconvert_exporter": "python",
   "pygments_lexer": "ipython3",
   "version": "3.7.5"
  }
 },
 "nbformat": 4,
 "nbformat_minor": 4
}
