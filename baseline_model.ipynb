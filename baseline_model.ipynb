{
 "cells": [
  {
   "cell_type": "markdown",
   "metadata": {},
   "source": [
    "This notebook defines the baseline model and evaluates it"
   ]
  },
  {
   "cell_type": "code",
   "execution_count": 1,
   "metadata": {},
   "outputs": [],
   "source": [
    "# Load libraries\n",
    "\n",
    "import librosa\n",
    "import matplotlib.pyplot as plt\n",
    "import numpy as np\n",
    "import os\n",
    "from tqdm import tqdm\n",
    "import pretty_midi"
   ]
  },
  {
   "cell_type": "code",
   "execution_count": 99,
   "metadata": {},
   "outputs": [],
   "source": [
    "# User parameters\n",
    "\n",
    "path = os.getcwd()\n",
    "midi_path = os.getcwd()\n",
    "\n",
    "sampling_rate = 16000 # 22050 is default, 16000 is to match the paper; sampling rate for WAV files\n",
    "num_freq_bins = 229\n",
    "n_fft = 2048 # default value\n",
    "threshold = 0.25 # keep top 25% of sounds"
   ]
  },
  {
   "cell_type": "code",
   "execution_count": 2,
   "metadata": {},
   "outputs": [],
   "source": [
    "def accuracy(prediction, label, window_size = 1):\n",
    "  #initialize count\n",
    "  count = 0\n",
    "  #check if window_size is an integer\n",
    "  #convert each 2D tensor into a 2D numpy array\n",
    "  pred_np = prediction\n",
    "  label_np = label \n",
    "  #check that the dimensions of the prediction and the label are the same\n",
    "  if pred_np.shape != label_np.shape:\n",
    "    print(\"Error- prediction and label sizes don't match!\")\n",
    "    return\n",
    "  #check that window_size is a positive odd integer \n",
    "  if window_size <= 0:\n",
    "    print(\"Error- window_size is not positive!\")\n",
    "    return\n",
    "  elif isinstance(window_size, int) != True:\n",
    "    print(\"Error- window_size is not an integer!\")\n",
    "    return\n",
    "  elif isinstance(window_size, int) == True:\n",
    "    if window_size % 2 == 0:\n",
    "      print(\"Error- window_size is not odd!\")\n",
    "      return\n",
    "  #find the number of frames of each file\n",
    "  col = pred_np.shape[1]\n",
    "  #check if the values in each column of the prediction are the same for the label within the window_size\n",
    "  for i in range(col):\n",
    "    #case where window_size is out of bounds (beginning case)\n",
    "    if i >=0 and i < int(window_size/2):\n",
    "      lower_lim = 0\n",
    "      upper_lim = i + int(window_size/2)\n",
    "    #case where window_size is out of bounds (end case)\n",
    "    elif i >= col - int(window_size/2) and i <= col:\n",
    "      lower_lim = i - int(window_size/2)\n",
    "      upper_lim = col - 1\n",
    "    else:\n",
    "      lower_lim = i - int(window_size/2)\n",
    "      upper_lim = i + int(window_size/2)\n",
    "    window_arr = label_np[:, lower_lim:upper_lim + 1]\n",
    "    if (np.transpose(pred_np)[i:i+1].tolist()[0] in np.transpose(window_arr).tolist()) == True: \n",
    "      count += 1\n",
    "  return count/col"
   ]
  },
  {
   "cell_type": "code",
   "execution_count": 117,
   "metadata": {},
   "outputs": [],
   "source": [
    "# https://www.inspiredacoustics.com/en/MIDI_note_numbers_and_center_frequencies\n",
    "\n",
    "# only keep the frequencies of the song which are playable on the piano\n",
    "\n",
    "index_to_freq = librosa.fft_frequencies(sr=sampling_rate, n_fft=n_fft)\n",
    "for i, f in enumerate(index_to_freq):\n",
    "    if f > (25.96+27.5)/2: # averaged A0 with midi note below\n",
    "        lowest_i = i\n",
    "        break\n",
    "for i in range(len(index_to_freq)):\n",
    "    if index_to_freq[i+1] > (4186.01+4434.92)/2: # averaged C8 with C#8\n",
    "        highest_i = i\n",
    "        break"
   ]
  },
  {
   "cell_type": "code",
   "execution_count": 118,
   "metadata": {},
   "outputs": [],
   "source": [
    "piano_notes_to_freq = [25.96, 27.5, 29.14, 30.87, 32.7, 34.65, 36.71, 38.89, 41.2, 43.65, 46.25, 49, 51.91, 55,\n",
    "                       58.27, 61.74, 65.41, 69.3, 73.42, 77.78, 82.41, 87.31, 92.5, 98, 103.83, 110, 116.54,\n",
    "                       123.47, 130.81, 138.59, 146.83, 155.56, 164.81, 174.61, 185, 196, 207.65, 220, 233.08,\n",
    "                       246.94, 261.63, 277.18, 293.66, 311.13, 329.63, 349.23, 369.99, 392, 415.3, 440, 466.16,\n",
    "                       493.88, 523.25, 554.37, 587.33, 622.25, 659.26, 698.46, 739.99, 783.99, 830.61, 880, 932.33,\n",
    "                      987.77, 1046.5, 1108.73, 1174.66, 1244.51, 1318.51, 1396.91, 1479.98, 1567.98, 1661.22, 1760,\n",
    "                      1864.66, 1975.53, 2093, 2217.46, 2349.32, 2489.02, 2637.02, 2793.83, 2959.96, 3135.96,\n",
    "                      3322.44, 3520, 3729.31, 3951.07, 4186.01, 4434.92]\n",
    "piano_note_bounds = []\n",
    "for i in range(len(piano_notes_to_freq)-1):\n",
    "    piano_note_bounds.append((piano_notes_to_freq[i]+piano_notes_to_freq[i+1])/2)"
   ]
  },
  {
   "cell_type": "code",
   "execution_count": 103,
   "metadata": {
    "scrolled": true
   },
   "outputs": [
    {
     "name": "stderr",
     "output_type": "stream",
     "text": [
      "  0%|                                                                                          | 0/191 [00:00<?, ?it/s]<ipython-input-103-da74ee8b3d35>:52: RuntimeWarning: invalid value encountered in greater\n",
      "  label = np.where(label > 0, 1, 0)\n",
      " 53%|██████████████████████████████████████████▎                                     | 101/191 [00:12<00:09,  9.11it/s]"
     ]
    },
    {
     "name": "stdout",
     "output_type": "stream",
     "text": [
      "frame acc 1: 0.008951612903225808\n",
      "frame acc 5: 0.013064516129032257\n",
      "frame acc 11: 0.01661290322580645\n",
      "frame acc 123: 0.02838709677419355\n",
      "elem acc: 0.853760080645161\n"
     ]
    },
    {
     "name": "stderr",
     "output_type": "stream",
     "text": [
      "100%|████████████████████████████████████████████████████████████████████████████████| 191/191 [00:26<00:00,  7.18it/s]"
     ]
    },
    {
     "name": "stdout",
     "output_type": "stream",
     "text": [
      "Final!\n",
      "0.00696672859314305\n",
      "0.010048978213139673\n",
      "0.012962337442999492\n",
      "0.022462421888194566\n",
      "0.8428772397168788\n",
      "191\n"
     ]
    },
    {
     "name": "stderr",
     "output_type": "stream",
     "text": [
      "\n"
     ]
    }
   ],
   "source": [
    "frame_acc_1 = 0 # window size of 1\n",
    "frame_acc_5 = 0 # window size of 5\n",
    "frame_acc_11 = 0 # window size of 11\n",
    "frame_acc_123 = 0 # window size of 247\n",
    "elem_acc = 0 # element accuracy\n",
    "file_num = 0\n",
    "\n",
    "for file in tqdm(os.listdir(path)):\n",
    "\n",
    "    if file.endswith('.wav'):\n",
    "    \n",
    "        # Load WAV file\n",
    "        audio, _ = librosa.core.load(os.path.join(path,file), sr=sampling_rate)\n",
    "        \n",
    "        # Compute spectrogram on each partition of the song\n",
    "        spectrogram = np.abs(librosa.stft(audio[:audio.shape[0]//2])) # use first four seconds\n",
    "    \n",
    "        # only keep frequencies playable on piano\n",
    "        piano_spec = spectrogram[lowest_i:highest_i+1, :]\n",
    "         \n",
    "        # only keep top k% of sounds\n",
    "        for i in range(piano_spec.shape[1]):\n",
    "            time_slice = piano_spec[:,i]\n",
    "            time_thresh = (1-threshold)*time_slice.max()\n",
    "            time_slice[time_slice < time_thresh] = 0\n",
    "        \n",
    "        # convert piano_note_bounds to our current indexes being used in piano_spec\n",
    "        lower_index_bounds = []\n",
    "        for b in piano_note_bounds:\n",
    "            for i in range(piano_spec.shape[0]):\n",
    "                if index_to_freq[lowest_i+i] > b:\n",
    "                    lower_index_bounds.append(i)\n",
    "                    break\n",
    "        \n",
    "        # convert to piano roll\n",
    "        new_piano_roll = np.ndarray((88, piano_spec.shape[1]))\n",
    "        \n",
    "        for i in range(piano_spec.shape[1]):\n",
    "            time_slice = piano_spec[:, i]\n",
    "            for j in range(len(lower_index_bounds)-1):\n",
    "                if lower_index_bounds[j] == lower_index_bounds[j+1]:\n",
    "                    continue\n",
    "                new_piano_roll[j, i] = time_slice[lower_index_bounds[j]:lower_index_bounds[j+1]].max()\n",
    "            new_piano_roll[j+1, i] = time_slice[lower_index_bounds[-1]:].max()\n",
    "        label = new_piano_roll[:, :124] # use first four seconds\n",
    "        label = np.where(label > 0, 1, 0)\n",
    "        \n",
    "        # load midi label file\n",
    "        midi = pretty_midi.PrettyMIDI(os.path.join(midi_path,file[:-4]+'.mid'))\n",
    "        piano_notes = midi.get_piano_roll(fs=31)\n",
    "        gt = np.where(piano_notes[21:109, :124] > 0, 1, 0) # use first four seconds\n",
    "        \n",
    "        # frame accuracy\n",
    "        frame_acc_1 += accuracy(label, gt)\n",
    "        frame_acc_5 += accuracy(label, gt, window_size=5)\n",
    "        frame_acc_11 += accuracy(label, gt, window_size=11)\n",
    "        frame_acc_123 += accuracy(label, gt, window_size=123)\n",
    "        elem_acc += ((label == gt).sum())/label.shape[0]/label.shape[1]\n",
    "        \n",
    "        file_num += 1\n",
    "        \n",
    "    if file_num % 100 == 0:\n",
    "        print('frame acc 1:', frame_acc_1/file_num)\n",
    "        print('frame acc 5:', frame_acc_5/file_num)\n",
    "        print('frame acc 11:', frame_acc_11/file_num)\n",
    "        print('frame acc 123:', frame_acc_123/file_num)\n",
    "        print('elem acc:', elem_acc/file_num)\n",
    "    \n",
    "print('Final!')\n",
    "print(frame_acc_1/file_num)\n",
    "print(frame_acc_5/file_num)\n",
    "print(frame_acc_11/file_num)\n",
    "print(frame_acc_123/file_num)\n",
    "print(elem_acc/file_num)\n",
    "print(file_num)"
   ]
  },
  {
   "cell_type": "code",
   "execution_count": 6,
   "metadata": {},
   "outputs": [
    {
     "name": "stdout",
     "output_type": "stream",
     "text": [
      "frame acc 1: 0.0\n",
      "frame acc 5: 0.0\n",
      "frame acc 11: 0.0\n",
      "frame acc 123: 0.0\n",
      "elem acc: 0.8892961876832844\n"
     ]
    }
   ],
   "source": [
    "# Visualize results\n",
    "\n",
    "# User parameters\n",
    "\n",
    "path = r'C:\\Users\\Anthony\\Documents\\Anthony\\maestro_test\\clipped_wav\\MIDI-Unprocessed_06_R1_2006_01-04_ORIG_MID--AUDIO_06_R1_2006_02_Track02_wav_1.wav'\n",
    "midi_path = r'C:\\Users\\Anthony\\Documents\\Anthony\\maestro_test\\clipped_midi_new\\MIDI-Unprocessed_06_R1_2006_01-04_ORIG_MID--AUDIO_06_R1_2006_02_Track02_wav_1.mid'\n",
    "\n",
    "sampling_rate = 16000 # 22050 is default, 16000 is to match the paper; sampling rate for WAV files\n",
    "num_freq_bins = 229\n",
    "n_fft = 2048 # default value\n",
    "threshold = 0.25 # keep top 25% of sounds\n",
    "\n",
    "# https://www.inspiredacoustics.com/en/MIDI_note_numbers_and_center_frequencies\n",
    "\n",
    "# only keep the frequencies of the song which are playable on the piano\n",
    "\n",
    "index_to_freq = librosa.fft_frequencies(sr=sampling_rate, n_fft=n_fft)\n",
    "for i, f in enumerate(index_to_freq):\n",
    "    if f > (25.96+27.5)/2: # averaged A0 with midi note below\n",
    "        lowest_i = i\n",
    "        break\n",
    "for i in range(len(index_to_freq)):\n",
    "    if index_to_freq[i+1] > (4186.01+4434.92)/2: # averaged C8 with C#8\n",
    "        highest_i = i\n",
    "        break\n",
    "        \n",
    "piano_notes_to_freq = [25.96, 27.5, 29.14, 30.87, 32.7, 34.65, 36.71, 38.89, 41.2, 43.65, 46.25, 49, 51.91, 55,\n",
    "                       58.27, 61.74, 65.41, 69.3, 73.42, 77.78, 82.41, 87.31, 92.5, 98, 103.83, 110, 116.54,\n",
    "                       123.47, 130.81, 138.59, 146.83, 155.56, 164.81, 174.61, 185, 196, 207.65, 220, 233.08,\n",
    "                       246.94, 261.63, 277.18, 293.66, 311.13, 329.63, 349.23, 369.99, 392, 415.3, 440, 466.16,\n",
    "                       493.88, 523.25, 554.37, 587.33, 622.25, 659.26, 698.46, 739.99, 783.99, 830.61, 880, 932.33,\n",
    "                      987.77, 1046.5, 1108.73, 1174.66, 1244.51, 1318.51, 1396.91, 1479.98, 1567.98, 1661.22, 1760,\n",
    "                      1864.66, 1975.53, 2093, 2217.46, 2349.32, 2489.02, 2637.02, 2793.83, 2959.96, 3135.96,\n",
    "                      3322.44, 3520, 3729.31, 3951.07, 4186.01, 4434.92]\n",
    "piano_note_bounds = []\n",
    "for i in range(len(piano_notes_to_freq)-1):\n",
    "    piano_note_bounds.append((piano_notes_to_freq[i]+piano_notes_to_freq[i+1])/2)\n",
    "    \n",
    "frame_acc_1 = 0 # window size of 1\n",
    "frame_acc_5 = 0 # window size of 5\n",
    "frame_acc_11 = 0 # window size of 11\n",
    "frame_acc_123 = 0 # window size of 247\n",
    "elem_acc = 0 # element accuracy\n",
    "file_num = 0\n",
    "\n",
    "# Load WAV file\n",
    "audio, _ = librosa.core.load(path, sr=sampling_rate)\n",
    "\n",
    "# Compute spectrogram on each partition of the song\n",
    "spectrogram = np.abs(librosa.stft(audio[:audio.shape[0]//2])) # use first four seconds\n",
    "\n",
    "# only keep frequencies playable on piano\n",
    "piano_spec = spectrogram[lowest_i:highest_i+1, :]\n",
    "\n",
    "# only keep top k% of sounds\n",
    "for i in range(piano_spec.shape[1]):\n",
    "    time_slice = piano_spec[:,i]\n",
    "    time_thresh = (1-threshold)*time_slice.max()\n",
    "    time_slice[time_slice < time_thresh] = 0\n",
    "\n",
    "# convert piano_note_bounds to our current indexes being used in piano_spec\n",
    "lower_index_bounds = []\n",
    "for b in piano_note_bounds:\n",
    "    for i in range(piano_spec.shape[0]):\n",
    "        if index_to_freq[lowest_i+i] > b:\n",
    "            lower_index_bounds.append(i)\n",
    "            break\n",
    "\n",
    "# convert to piano roll\n",
    "new_piano_roll = np.ndarray((88, piano_spec.shape[1]))\n",
    "\n",
    "for i in range(piano_spec.shape[1]):\n",
    "    time_slice = piano_spec[:, i]\n",
    "    for j in range(len(lower_index_bounds)-1):\n",
    "        if lower_index_bounds[j] == lower_index_bounds[j+1]:\n",
    "            continue\n",
    "        new_piano_roll[j, i] = time_slice[lower_index_bounds[j]:lower_index_bounds[j+1]].max()\n",
    "    new_piano_roll[j+1, i] = time_slice[lower_index_bounds[-1]:].max()\n",
    "label = new_piano_roll[:, :124] # use first four seconds\n",
    "label = np.where(label > 0, 1, 0)\n",
    "\n",
    "# load midi label file\n",
    "midi = pretty_midi.PrettyMIDI(midi_path)\n",
    "piano_notes = midi.get_piano_roll(fs=31)\n",
    "gt = np.where(piano_notes[21:109, :124] > 0, 1, 0) # use first four seconds\n",
    "\n",
    "# frame accuracy\n",
    "frame_acc_1 += accuracy(label, gt)\n",
    "frame_acc_5 += accuracy(label, gt, window_size=5)\n",
    "frame_acc_11 += accuracy(label, gt, window_size=11)\n",
    "frame_acc_123 += accuracy(label, gt, window_size=123)\n",
    "elem_acc += ((label == gt).sum())/label.shape[0]/label.shape[1]\n",
    "\n",
    "file_num += 1\n",
    "\n",
    "print('frame acc 1:', frame_acc_1/file_num)\n",
    "print('frame acc 5:', frame_acc_5/file_num)\n",
    "print('frame acc 11:', frame_acc_11/file_num)\n",
    "print('frame acc 123:', frame_acc_123/file_num)\n",
    "print('elem acc:', elem_acc/file_num)"
   ]
  },
  {
   "cell_type": "code",
   "execution_count": 8,
   "metadata": {},
   "outputs": [
    {
     "name": "stderr",
     "output_type": "stream",
     "text": [
      "<ipython-input-8-0078e0905c8f>:5: MatplotlibDeprecationWarning: Adding an axes using the same arguments as a previous axes currently reuses the earlier instance.  In a future version, a new instance will always be created and returned.  Meanwhile, this warning can be suppressed, and the future behavior ensured, by passing a unique label to each axes instance.\n",
      "  plt.subplot(211).set_title('Ground Truth MIDI')\n",
      "<ipython-input-8-0078e0905c8f>:6: MatplotlibDeprecationWarning: Adding an axes using the same arguments as a previous axes currently reuses the earlier instance.  In a future version, a new instance will always be created and returned.  Meanwhile, this warning can be suppressed, and the future behavior ensured, by passing a unique label to each axes instance.\n",
      "  plt.subplot(211).set_xlabel('Frame')\n",
      "<ipython-input-8-0078e0905c8f>:7: MatplotlibDeprecationWarning: Adding an axes using the same arguments as a previous axes currently reuses the earlier instance.  In a future version, a new instance will always be created and returned.  Meanwhile, this warning can be suppressed, and the future behavior ensured, by passing a unique label to each axes instance.\n",
      "  plt.subplot(211).set_ylabel('MIDI Note')\n",
      "<ipython-input-8-0078e0905c8f>:11: MatplotlibDeprecationWarning: Adding an axes using the same arguments as a previous axes currently reuses the earlier instance.  In a future version, a new instance will always be created and returned.  Meanwhile, this warning can be suppressed, and the future behavior ensured, by passing a unique label to each axes instance.\n",
      "  plt.subplot(212).set_title('Baseline Predictions')\n",
      "<ipython-input-8-0078e0905c8f>:12: MatplotlibDeprecationWarning: Adding an axes using the same arguments as a previous axes currently reuses the earlier instance.  In a future version, a new instance will always be created and returned.  Meanwhile, this warning can be suppressed, and the future behavior ensured, by passing a unique label to each axes instance.\n",
      "  plt.subplot(212).set_xlabel('Frame')\n",
      "<ipython-input-8-0078e0905c8f>:13: MatplotlibDeprecationWarning: Adding an axes using the same arguments as a previous axes currently reuses the earlier instance.  In a future version, a new instance will always be created and returned.  Meanwhile, this warning can be suppressed, and the future behavior ensured, by passing a unique label to each axes instance.\n",
      "  plt.subplot(212).set_ylabel('MIDI Note')\n"
     ]
    },
    {
     "data": {
      "image/png": "[encoded data removed]",
      "text/plain": [
       "<Figure size 864x864 with 4 Axes>"
      ]
     },
     "metadata": {
      "needs_background": "light"
     },
     "output_type": "display_data"
    }
   ],
   "source": [
    "plt.figure(figsize=(12,12))\n",
    "plt.subplot(211)\n",
    "plt.subplot(211).set_title('Ground Truth MIDI')\n",
    "plt.subplot(211).set_xlabel('Frame')\n",
    "plt.subplot(211).set_ylabel('MIDI Note')\n",
    "plt.imshow(gt, cmap=\"Blues\", aspect=\"auto\", origin='lower') # auto makes each box rectangular\n",
    "plt.colorbar()\n",
    "plt.subplot(212)\n",
    "plt.subplot(212).set_title('Baseline Predictions')\n",
    "plt.subplot(212).set_xlabel('Frame')\n",
    "plt.subplot(212).set_ylabel('MIDI Note')\n",
    "plt.imshow(label, cmap=\"Blues\", aspect=\"auto\", origin='lower') # auto makes each box rectangular\n",
    "plt.colorbar()\n",
    "plt.show()"
   ]
  }
 ],
 "metadata": {
  "kernelspec": {
   "display_name": "Python 3",
   "language": "python",
   "name": "python3"
  },
  "language_info": {
   "codemirror_mode": {
    "name": "ipython",
    "version": 3
   },
   "file_extension": ".py",
   "mimetype": "text/x-python",
   "name": "python",
   "nbconvert_exporter": "python",
   "pygments_lexer": "ipython3",
   "version": "3.7.5"
  }
 },
 "nbformat": 4,
 "nbformat_minor": 4
}
