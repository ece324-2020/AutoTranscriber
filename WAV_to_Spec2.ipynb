{
  "nbformat": 4,
  "nbformat_minor": 0,
  "metadata": {
    "colab": {
      "name": "WAV_to_Spec2.ipynb",
      "provenance": [],
      "collapsed_sections": []
    },
    "kernelspec": {
      "name": "python3",
      "display_name": "Python 3"
    }
  },
  "cells": [
    {
      "cell_type": "code",
      "metadata": {
        "colab": {
          "base_uri": "https://localhost:8080/"
        },
        "id": "SfRvhYaRP95r",
        "outputId": "838513fd-c28a-4454-fdd7-e9bedf6a3485"
      },
      "source": [
        "from google.colab import drive\n",
        "import os\n",
        "import librosa\n",
        "import numpy as np\n",
        "import os\n",
        "from tqdm import tqdm\n",
        "drive.mount('/content/drive')\n",
        "root = '/content/drive/My Drive/_project/AutoTranscriber-recordings/adjusted'\n",
        "os.chdir(root)"
      ],
      "execution_count": null,
      "outputs": [
        {
          "output_type": "stream",
          "text": [
            "Mounted at /content/drive\n"
          ],
          "name": "stdout"
        }
      ]
    },
    {
      "cell_type": "code",
      "metadata": {
        "id": "iR_tC29rQB6u"
      },
      "source": [
        "path = os.getcwd()\n",
        "sampling_rate = 16000 # 22050 is default, 16000 is to match the paper; sampling rate for WAV files\n",
        "num_freq_bins = 229\n",
        "partition_size = 8 # number of seconds each partition of the song should be"
      ],
      "execution_count": null,
      "outputs": []
    },
    {
      "cell_type": "code",
      "metadata": {
        "colab": {
          "base_uri": "https://localhost:8080/"
        },
        "id": "Dc9Ai7hlsev7",
        "outputId": "4e0147b4-e1bc-43d7-8590-77b4bd237336"
      },
      "source": [
        "for file in tqdm(os.listdir(path)):\n",
        "\n",
        "    if file.endswith('.wav'):\n",
        "        file_name, file_ext = os.path.splitext(file)\n",
        "        # Load WAV file\n",
        "        audio, _ = librosa.core.load(file, sr=sampling_rate)\n",
        "        \n",
        "        # Compute spectrogram on each partition of the song and save it\n",
        "        num_partitions = int(len(audio)/sampling_rate/partition_size)\n",
        "        for i in range(num_partitions):\n",
        "            \n",
        "            audio_start = i*partition_size*sampling_rate\n",
        "            audio_end = (i+1)*partition_size*sampling_rate\n",
        "            mel_spec = librosa.feature.melspectrogram(y=audio[audio_start:audio_end], sr=sampling_rate, \n",
        "                                                      n_mels=num_freq_bins)\n",
        "            log_mel_spec = librosa.power_to_db(mel_spec) # compute the log of the amplitudes\n",
        "            \n",
        "            np_file = os.path.join(path + '/spec/' + file_name + '_' + str(i+1) + '.npy')\n",
        "            print(np_file)\n",
        "            np.save(np_file, log_mel_spec)"
      ],
      "execution_count": null,
      "outputs": [
        {
          "output_type": "stream",
          "text": [
            "\n",
            "  0%|          | 0/48 [00:00<?, ?it/s]\u001b[A\n",
            "  2%|▏         | 1/48 [00:01<01:05,  1.39s/it]\u001b[A"
          ],
          "name": "stderr"
        },
        {
          "output_type": "stream",
          "text": [
            "/content/drive/My Drive/_project/AutoTranscriber-recordings/adjusted/spec/CanonInD_17_adjusted_1.npy\n",
            "/content/drive/My Drive/_project/AutoTranscriber-recordings/adjusted/spec/CanonInD_17_adjusted_2.npy\n",
            "/content/drive/My Drive/_project/AutoTranscriber-recordings/adjusted/spec/CanonInD_17_adjusted_3.npy\n",
            "/content/drive/My Drive/_project/AutoTranscriber-recordings/adjusted/spec/CanonInD_17_adjusted_4.npy\n",
            "/content/drive/My Drive/_project/AutoTranscriber-recordings/adjusted/spec/CanonInD_17_adjusted_5.npy\n"
          ],
          "name": "stdout"
        },
        {
          "output_type": "stream",
          "text": [
            "\n",
            "  4%|▍         | 2/48 [00:02<01:02,  1.36s/it]"
          ],
          "name": "stderr"
        },
        {
          "output_type": "stream",
          "text": [
            "/content/drive/My Drive/_project/AutoTranscriber-recordings/adjusted/spec/CanonInD_37_adjusted_1.npy\n",
            "/content/drive/My Drive/_project/AutoTranscriber-recordings/adjusted/spec/CanonInD_37_adjusted_2.npy\n",
            "/content/drive/My Drive/_project/AutoTranscriber-recordings/adjusted/spec/CanonInD_37_adjusted_3.npy\n",
            "/content/drive/My Drive/_project/AutoTranscriber-recordings/adjusted/spec/CanonInD_37_adjusted_4.npy\n",
            "/content/drive/My Drive/_project/AutoTranscriber-recordings/adjusted/spec/CanonInD_37_adjusted_5.npy\n"
          ],
          "name": "stdout"
        },
        {
          "output_type": "stream",
          "text": [
            "\u001b[A"
          ],
          "name": "stderr"
        },
        {
          "output_type": "stream",
          "text": [
            "/content/drive/My Drive/_project/AutoTranscriber-recordings/adjusted/spec/Dora_1_adjusted_1.npy\n",
            "/content/drive/My Drive/_project/AutoTranscriber-recordings/adjusted/spec/Dora_1_adjusted_2.npy\n",
            "/content/drive/My Drive/_project/AutoTranscriber-recordings/adjusted/spec/Dora_1_adjusted_3.npy\n",
            "/content/drive/My Drive/_project/AutoTranscriber-recordings/adjusted/spec/Dora_1_adjusted_4.npy\n",
            "/content/drive/My Drive/_project/AutoTranscriber-recordings/adjusted/spec/Dora_1_adjusted_5.npy\n"
          ],
          "name": "stdout"
        },
        {
          "output_type": "stream",
          "text": [
            "\n",
            "  6%|▋         | 3/48 [00:04<01:03,  1.42s/it]\u001b[A"
          ],
          "name": "stderr"
        },
        {
          "output_type": "stream",
          "text": [
            "/content/drive/My Drive/_project/AutoTranscriber-recordings/adjusted/spec/Dora_1_adjusted_6.npy\n",
            "/content/drive/My Drive/_project/AutoTranscriber-recordings/adjusted/spec/Elmo_1_adjusted_1.npy\n",
            "/content/drive/My Drive/_project/AutoTranscriber-recordings/adjusted/spec/Elmo_1_adjusted_2.npy\n",
            "/content/drive/My Drive/_project/AutoTranscriber-recordings/adjusted/spec/Elmo_1_adjusted_3.npy\n",
            "/content/drive/My Drive/_project/AutoTranscriber-recordings/adjusted/spec/Elmo_1_adjusted_4.npy\n",
            "/content/drive/My Drive/_project/AutoTranscriber-recordings/adjusted/spec/Elmo_1_adjusted_5.npy\n"
          ],
          "name": "stdout"
        },
        {
          "output_type": "stream",
          "text": [
            "\n",
            "  8%|▊         | 4/48 [00:05<01:04,  1.46s/it]\u001b[A"
          ],
          "name": "stderr"
        },
        {
          "output_type": "stream",
          "text": [
            "/content/drive/My Drive/_project/AutoTranscriber-recordings/adjusted/spec/Elmo_1_adjusted_6.npy\n"
          ],
          "name": "stdout"
        },
        {
          "output_type": "stream",
          "text": [
            "\n",
            " 10%|█         | 5/48 [00:07<01:00,  1.40s/it]\u001b[A"
          ],
          "name": "stderr"
        },
        {
          "output_type": "stream",
          "text": [
            "/content/drive/My Drive/_project/AutoTranscriber-recordings/adjusted/spec/Elvis_1_adjusted_1.npy\n",
            "/content/drive/My Drive/_project/AutoTranscriber-recordings/adjusted/spec/Elvis_1_adjusted_2.npy\n",
            "/content/drive/My Drive/_project/AutoTranscriber-recordings/adjusted/spec/Elvis_1_adjusted_3.npy\n",
            "/content/drive/My Drive/_project/AutoTranscriber-recordings/adjusted/spec/Elvis_1_adjusted_4.npy\n",
            "/content/drive/My Drive/_project/AutoTranscriber-recordings/adjusted/spec/Elvis_1_adjusted_5.npy\n"
          ],
          "name": "stdout"
        },
        {
          "output_type": "stream",
          "text": [
            "\n",
            " 12%|█▎        | 6/48 [00:07<00:52,  1.24s/it]\u001b[A"
          ],
          "name": "stderr"
        },
        {
          "output_type": "stream",
          "text": [
            "/content/drive/My Drive/_project/AutoTranscriber-recordings/adjusted/spec/Faded_1_adjusted_1.npy\n",
            "/content/drive/My Drive/_project/AutoTranscriber-recordings/adjusted/spec/Faded_1_adjusted_2.npy\n",
            "/content/drive/My Drive/_project/AutoTranscriber-recordings/adjusted/spec/Faded_1_adjusted_3.npy\n"
          ],
          "name": "stdout"
        },
        {
          "output_type": "stream",
          "text": [
            "\n",
            " 15%|█▍        | 7/48 [00:09<00:53,  1.31s/it]\u001b[A"
          ],
          "name": "stderr"
        },
        {
          "output_type": "stream",
          "text": [
            "/content/drive/My Drive/_project/AutoTranscriber-recordings/adjusted/spec/Fantasia(Handel)_1_adjusted_1.npy\n",
            "/content/drive/My Drive/_project/AutoTranscriber-recordings/adjusted/spec/Fantasia(Handel)_1_adjusted_2.npy\n",
            "/content/drive/My Drive/_project/AutoTranscriber-recordings/adjusted/spec/Fantasia(Handel)_1_adjusted_3.npy\n",
            "/content/drive/My Drive/_project/AutoTranscriber-recordings/adjusted/spec/Fantasia(Handel)_1_adjusted_4.npy\n",
            "/content/drive/My Drive/_project/AutoTranscriber-recordings/adjusted/spec/Fantasia(Handel)_1_adjusted_5.npy\n"
          ],
          "name": "stdout"
        },
        {
          "output_type": "stream",
          "text": [
            "\n",
            " 17%|█▋        | 8/48 [00:10<00:55,  1.39s/it]\u001b[A"
          ],
          "name": "stderr"
        },
        {
          "output_type": "stream",
          "text": [
            "/content/drive/My Drive/_project/AutoTranscriber-recordings/adjusted/spec/Fantasia(Handel)_30_adjusted_1.npy\n",
            "/content/drive/My Drive/_project/AutoTranscriber-recordings/adjusted/spec/Fantasia(Handel)_30_adjusted_2.npy\n",
            "/content/drive/My Drive/_project/AutoTranscriber-recordings/adjusted/spec/Fantasia(Handel)_30_adjusted_3.npy\n",
            "/content/drive/My Drive/_project/AutoTranscriber-recordings/adjusted/spec/Fantasia(Handel)_30_adjusted_4.npy\n",
            "/content/drive/My Drive/_project/AutoTranscriber-recordings/adjusted/spec/Fantasia(Handel)_30_adjusted_5.npy\n",
            "/content/drive/My Drive/_project/AutoTranscriber-recordings/adjusted/spec/FantasiaTelemann_1_adjusted_1.npy\n",
            "/content/drive/My Drive/_project/AutoTranscriber-recordings/adjusted/spec/FantasiaTelemann_1_adjusted_2.npy\n",
            "/content/drive/My Drive/_project/AutoTranscriber-recordings/adjusted/spec/FantasiaTelemann_1_adjusted_3.npy\n",
            "/content/drive/My Drive/_project/AutoTranscriber-recordings/adjusted/spec/FantasiaTelemann_1_adjusted_4.npy\n",
            "/content/drive/My Drive/_project/AutoTranscriber-recordings/adjusted/spec/FantasiaTelemann_1_adjusted_5.npy\n"
          ],
          "name": "stdout"
        },
        {
          "output_type": "stream",
          "text": [
            "\n",
            " 19%|█▉        | 9/48 [00:13<01:02,  1.61s/it]\u001b[A"
          ],
          "name": "stderr"
        },
        {
          "output_type": "stream",
          "text": [
            "/content/drive/My Drive/_project/AutoTranscriber-recordings/adjusted/spec/FantasiaTelemann_1_adjusted_6.npy\n",
            "/content/drive/My Drive/_project/AutoTranscriber-recordings/adjusted/spec/FolkDance_1_adjusted_1.npy\n",
            "/content/drive/My Drive/_project/AutoTranscriber-recordings/adjusted/spec/FolkDance_1_adjusted_2.npy\n",
            "/content/drive/My Drive/_project/AutoTranscriber-recordings/adjusted/spec/FolkDance_1_adjusted_3.npy\n"
          ],
          "name": "stdout"
        },
        {
          "output_type": "stream",
          "text": [
            "\n",
            " 21%|██        | 10/48 [00:15<01:04,  1.71s/it]\u001b[A"
          ],
          "name": "stderr"
        },
        {
          "output_type": "stream",
          "text": [
            "/content/drive/My Drive/_project/AutoTranscriber-recordings/adjusted/spec/FolkDance_1_adjusted_4.npy\n",
            "/content/drive/My Drive/_project/AutoTranscriber-recordings/adjusted/spec/FolkDance_1_adjusted_5.npy\n",
            "/content/drive/My Drive/_project/AutoTranscriber-recordings/adjusted/spec/Gymnopedie_1_adjusted_1.npy\n",
            "/content/drive/My Drive/_project/AutoTranscriber-recordings/adjusted/spec/Gymnopedie_1_adjusted_2.npy\n",
            "/content/drive/My Drive/_project/AutoTranscriber-recordings/adjusted/spec/Gymnopedie_1_adjusted_3.npy\n",
            "/content/drive/My Drive/_project/AutoTranscriber-recordings/adjusted/spec/Gymnopedie_1_adjusted_4.npy\n",
            "/content/drive/My Drive/_project/AutoTranscriber-recordings/adjusted/spec/Gymnopedie_1_adjusted_5.npy\n"
          ],
          "name": "stdout"
        },
        {
          "output_type": "stream",
          "text": [
            "\n",
            " 23%|██▎       | 11/48 [00:17<01:12,  1.97s/it]\u001b[A"
          ],
          "name": "stderr"
        },
        {
          "output_type": "stream",
          "text": [
            "/content/drive/My Drive/_project/AutoTranscriber-recordings/adjusted/spec/Gymnopedie_1_adjusted_6.npy\n",
            "/content/drive/My Drive/_project/AutoTranscriber-recordings/adjusted/spec/Gymnopedie_1_adjusted_7.npy\n",
            "/content/drive/My Drive/_project/AutoTranscriber-recordings/adjusted/spec/Gymnopedie_17_adjusted_1.npy\n",
            "/content/drive/My Drive/_project/AutoTranscriber-recordings/adjusted/spec/Gymnopedie_17_adjusted_2.npy\n",
            "/content/drive/My Drive/_project/AutoTranscriber-recordings/adjusted/spec/Gymnopedie_17_adjusted_3.npy\n",
            "/content/drive/My Drive/_project/AutoTranscriber-recordings/adjusted/spec/Gymnopedie_17_adjusted_4.npy\n",
            "/content/drive/My Drive/_project/AutoTranscriber-recordings/adjusted/spec/Gymnopedie_17_adjusted_5.npy\n"
          ],
          "name": "stdout"
        },
        {
          "output_type": "stream",
          "text": [
            "\n",
            " 25%|██▌       | 12/48 [00:20<01:16,  2.12s/it]\u001b[A"
          ],
          "name": "stderr"
        },
        {
          "output_type": "stream",
          "text": [
            "/content/drive/My Drive/_project/AutoTranscriber-recordings/adjusted/spec/Gymnopedie_17_adjusted_6.npy\n",
            "/content/drive/My Drive/_project/AutoTranscriber-recordings/adjusted/spec/Gymnopedie_17_adjusted_7.npy\n",
            "/content/drive/My Drive/_project/AutoTranscriber-recordings/adjusted/spec/Gymnopedie_17_adjusted_8.npy\n",
            "/content/drive/My Drive/_project/AutoTranscriber-recordings/adjusted/spec/Gymnopedie_37_adjusted_1.npy\n",
            "/content/drive/My Drive/_project/AutoTranscriber-recordings/adjusted/spec/Gymnopedie_37_adjusted_2.npy\n",
            "/content/drive/My Drive/_project/AutoTranscriber-recordings/adjusted/spec/Gymnopedie_37_adjusted_3.npy\n",
            "/content/drive/My Drive/_project/AutoTranscriber-recordings/adjusted/spec/Gymnopedie_37_adjusted_4.npy\n",
            "/content/drive/My Drive/_project/AutoTranscriber-recordings/adjusted/spec/Gymnopedie_37_adjusted_5.npy\n",
            "/content/drive/My Drive/_project/AutoTranscriber-recordings/adjusted/spec/Gymnopedie_37_adjusted_6.npy\n",
            "/content/drive/My Drive/_project/AutoTranscriber-recordings/adjusted/spec/Gymnopedie_37_adjusted_7.npy\n",
            "/content/drive/My Drive/_project/AutoTranscriber-recordings/adjusted/spec/Gymnopedie_37_adjusted_8.npy\n",
            "/content/drive/My Drive/_project/AutoTranscriber-recordings/adjusted/spec/Gymnopedie_37_adjusted_9.npy\n",
            "/content/drive/My Drive/_project/AutoTranscriber-recordings/adjusted/spec/Gymnopedie_37_adjusted_10.npy\n",
            "/content/drive/My Drive/_project/AutoTranscriber-recordings/adjusted/spec/Gymnopedie_37_adjusted_11.npy\n",
            "/content/drive/My Drive/_project/AutoTranscriber-recordings/adjusted/spec/Gymnopedie_37_adjusted_12.npy\n",
            "/content/drive/My Drive/_project/AutoTranscriber-recordings/adjusted/spec/Gymnopedie_37_adjusted_13.npy\n",
            "/content/drive/My Drive/_project/AutoTranscriber-recordings/adjusted/spec/Gymnopedie_37_adjusted_14.npy\n",
            "/content/drive/My Drive/_project/AutoTranscriber-recordings/adjusted/spec/Gymnopedie_37_adjusted_15.npy\n"
          ],
          "name": "stdout"
        },
        {
          "output_type": "stream",
          "text": [
            "\n",
            " 27%|██▋       | 13/48 [00:24<01:36,  2.75s/it]\u001b[A"
          ],
          "name": "stderr"
        },
        {
          "output_type": "stream",
          "text": [
            "/content/drive/My Drive/_project/AutoTranscriber-recordings/adjusted/spec/Gymnopedie_37_adjusted_16.npy\n",
            "/content/drive/My Drive/_project/AutoTranscriber-recordings/adjusted/spec/Lovely_1_adjusted_1.npy\n",
            "/content/drive/My Drive/_project/AutoTranscriber-recordings/adjusted/spec/Lovely_1_adjusted_2.npy\n",
            "/content/drive/My Drive/_project/AutoTranscriber-recordings/adjusted/spec/Lovely_1_adjusted_3.npy\n",
            "/content/drive/My Drive/_project/AutoTranscriber-recordings/adjusted/spec/Lovely_1_adjusted_4.npy\n",
            "/content/drive/My Drive/_project/AutoTranscriber-recordings/adjusted/spec/Lovely_1_adjusted_5.npy\n",
            "/content/drive/My Drive/_project/AutoTranscriber-recordings/adjusted/spec/Lovely_1_adjusted_6.npy\n",
            "/content/drive/My Drive/_project/AutoTranscriber-recordings/adjusted/spec/Lovely_1_adjusted_7.npy\n",
            "/content/drive/My Drive/_project/AutoTranscriber-recordings/adjusted/spec/Lovely_1_adjusted_8.npy\n",
            "/content/drive/My Drive/_project/AutoTranscriber-recordings/adjusted/spec/Lovely_1_adjusted_9.npy\n"
          ],
          "name": "stdout"
        },
        {
          "output_type": "stream",
          "text": [
            "\n",
            " 29%|██▉       | 14/48 [00:27<01:41,  2.99s/it]\u001b[A"
          ],
          "name": "stderr"
        },
        {
          "output_type": "stream",
          "text": [
            "/content/drive/My Drive/_project/AutoTranscriber-recordings/adjusted/spec/Lovely_1_adjusted_10.npy\n",
            "/content/drive/My Drive/_project/AutoTranscriber-recordings/adjusted/spec/Lovely_44_adjusted_1.npy\n",
            "/content/drive/My Drive/_project/AutoTranscriber-recordings/adjusted/spec/Lovely_44_adjusted_2.npy\n",
            "/content/drive/My Drive/_project/AutoTranscriber-recordings/adjusted/spec/Lovely_44_adjusted_3.npy\n",
            "/content/drive/My Drive/_project/AutoTranscriber-recordings/adjusted/spec/Lovely_44_adjusted_4.npy\n",
            "/content/drive/My Drive/_project/AutoTranscriber-recordings/adjusted/spec/Lovely_44_adjusted_5.npy\n",
            "/content/drive/My Drive/_project/AutoTranscriber-recordings/adjusted/spec/Lovely_44_adjusted_6.npy\n",
            "/content/drive/My Drive/_project/AutoTranscriber-recordings/adjusted/spec/Lovely_44_adjusted_7.npy\n",
            "/content/drive/My Drive/_project/AutoTranscriber-recordings/adjusted/spec/Lovely_44_adjusted_8.npy\n",
            "/content/drive/My Drive/_project/AutoTranscriber-recordings/adjusted/spec/Lovely_44_adjusted_9.npy\n",
            "/content/drive/My Drive/_project/AutoTranscriber-recordings/adjusted/spec/Lovely_44_adjusted_10.npy\n"
          ],
          "name": "stdout"
        },
        {
          "output_type": "stream",
          "text": [
            "\n",
            " 31%|███▏      | 15/48 [00:31<01:47,  3.26s/it]\u001b[A"
          ],
          "name": "stderr"
        },
        {
          "output_type": "stream",
          "text": [
            "/content/drive/My Drive/_project/AutoTranscriber-recordings/adjusted/spec/Lovely_44_adjusted_11.npy\n"
          ],
          "name": "stdout"
        },
        {
          "output_type": "stream",
          "text": [
            "\n",
            " 33%|███▎      | 16/48 [00:33<01:28,  2.78s/it]\u001b[A"
          ],
          "name": "stderr"
        },
        {
          "output_type": "stream",
          "text": [
            "/content/drive/My Drive/_project/AutoTranscriber-recordings/adjusted/spec/MinuetFHaydn_1_adjusted_1.npy\n",
            "/content/drive/My Drive/_project/AutoTranscriber-recordings/adjusted/spec/MinuetFHaydn_1_adjusted_2.npy\n",
            "/content/drive/My Drive/_project/AutoTranscriber-recordings/adjusted/spec/MinuetFHaydn_1_adjusted_3.npy\n",
            "/content/drive/My Drive/_project/AutoTranscriber-recordings/adjusted/spec/MinuetFHaydn_1_adjusted_4.npy\n"
          ],
          "name": "stdout"
        },
        {
          "output_type": "stream",
          "text": [
            "\n",
            " 35%|███▌      | 17/48 [00:35<01:17,  2.51s/it]\u001b[A"
          ],
          "name": "stderr"
        },
        {
          "output_type": "stream",
          "text": [
            "/content/drive/My Drive/_project/AutoTranscriber-recordings/adjusted/spec/MinuetFMozart_1_adjusted_1.npy\n",
            "/content/drive/My Drive/_project/AutoTranscriber-recordings/adjusted/spec/MinuetFMozart_1_adjusted_2.npy\n",
            "/content/drive/My Drive/_project/AutoTranscriber-recordings/adjusted/spec/MinuetFMozart_1_adjusted_3.npy\n",
            "/content/drive/My Drive/_project/AutoTranscriber-recordings/adjusted/spec/MinuetFMozart_1_adjusted_4.npy\n",
            "/content/drive/My Drive/_project/AutoTranscriber-recordings/adjusted/spec/MinuetFMozart_1_adjusted_5.npy\n"
          ],
          "name": "stdout"
        },
        {
          "output_type": "stream",
          "text": [
            "\n",
            " 38%|███▊      | 18/48 [00:36<01:07,  2.26s/it]\u001b[A"
          ],
          "name": "stderr"
        },
        {
          "output_type": "stream",
          "text": [
            "/content/drive/My Drive/_project/AutoTranscriber-recordings/adjusted/spec/MinuetteInG_1_adjusted_1.npy\n",
            "/content/drive/My Drive/_project/AutoTranscriber-recordings/adjusted/spec/MinuetteInG_1_adjusted_2.npy\n",
            "/content/drive/My Drive/_project/AutoTranscriber-recordings/adjusted/spec/MinuetteInG_1_adjusted_3.npy\n",
            "/content/drive/My Drive/_project/AutoTranscriber-recordings/adjusted/spec/MinuetteInG_1_adjusted_4.npy\n",
            "/content/drive/My Drive/_project/AutoTranscriber-recordings/adjusted/spec/MinuetteInG_1_adjusted_5.npy\n",
            "/content/drive/My Drive/_project/AutoTranscriber-recordings/adjusted/spec/MoonlightSonata_1_adjusted_1.npy\n",
            "/content/drive/My Drive/_project/AutoTranscriber-recordings/adjusted/spec/MoonlightSonata_1_adjusted_2.npy\n",
            "/content/drive/My Drive/_project/AutoTranscriber-recordings/adjusted/spec/MoonlightSonata_1_adjusted_3.npy\n",
            "/content/drive/My Drive/_project/AutoTranscriber-recordings/adjusted/spec/MoonlightSonata_1_adjusted_4.npy\n",
            "/content/drive/My Drive/_project/AutoTranscriber-recordings/adjusted/spec/MoonlightSonata_1_adjusted_5.npy\n",
            "/content/drive/My Drive/_project/AutoTranscriber-recordings/adjusted/spec/MoonlightSonata_1_adjusted_6.npy\n",
            "/content/drive/My Drive/_project/AutoTranscriber-recordings/adjusted/spec/MoonlightSonata_1_adjusted_7.npy\n",
            "/content/drive/My Drive/_project/AutoTranscriber-recordings/adjusted/spec/MoonlightSonata_1_adjusted_8.npy\n",
            "/content/drive/My Drive/_project/AutoTranscriber-recordings/adjusted/spec/MoonlightSonata_1_adjusted_9.npy\n",
            "/content/drive/My Drive/_project/AutoTranscriber-recordings/adjusted/spec/MoonlightSonata_1_adjusted_10.npy\n"
          ],
          "name": "stdout"
        },
        {
          "output_type": "stream",
          "text": [
            "\n",
            " 40%|███▉      | 19/48 [00:40<01:16,  2.64s/it]\u001b[A"
          ],
          "name": "stderr"
        },
        {
          "output_type": "stream",
          "text": [
            "/content/drive/My Drive/_project/AutoTranscriber-recordings/adjusted/spec/MoonlightSonata_1_adjusted_11.npy\n",
            "/content/drive/My Drive/_project/AutoTranscriber-recordings/adjusted/spec/MoonlightSonata_1_adjusted_12.npy\n",
            "/content/drive/My Drive/_project/AutoTranscriber-recordings/adjusted/spec/MoonlightSonata_1_adjusted_13.npy\n",
            "/content/drive/My Drive/_project/AutoTranscriber-recordings/adjusted/spec/MoonlightSonata_20_adjusted_1.npy\n",
            "/content/drive/My Drive/_project/AutoTranscriber-recordings/adjusted/spec/MoonlightSonata_20_adjusted_2.npy\n",
            "/content/drive/My Drive/_project/AutoTranscriber-recordings/adjusted/spec/MoonlightSonata_20_adjusted_3.npy\n",
            "/content/drive/My Drive/_project/AutoTranscriber-recordings/adjusted/spec/MoonlightSonata_20_adjusted_4.npy\n",
            "/content/drive/My Drive/_project/AutoTranscriber-recordings/adjusted/spec/MoonlightSonata_20_adjusted_5.npy\n",
            "/content/drive/My Drive/_project/AutoTranscriber-recordings/adjusted/spec/MoonlightSonata_20_adjusted_6.npy\n",
            "/content/drive/My Drive/_project/AutoTranscriber-recordings/adjusted/spec/MoonlightSonata_20_adjusted_7.npy\n",
            "/content/drive/My Drive/_project/AutoTranscriber-recordings/adjusted/spec/MoonlightSonata_20_adjusted_8.npy\n",
            "/content/drive/My Drive/_project/AutoTranscriber-recordings/adjusted/spec/MoonlightSonata_20_adjusted_9.npy\n",
            "/content/drive/My Drive/_project/AutoTranscriber-recordings/adjusted/spec/MoonlightSonata_20_adjusted_10.npy\n"
          ],
          "name": "stdout"
        },
        {
          "output_type": "stream",
          "text": [
            "\n",
            " 42%|████▏     | 20/48 [00:43<01:20,  2.86s/it]\u001b[A"
          ],
          "name": "stderr"
        },
        {
          "output_type": "stream",
          "text": [
            "/content/drive/My Drive/_project/AutoTranscriber-recordings/adjusted/spec/MoonlightSonata_20_adjusted_11.npy\n",
            "/content/drive/My Drive/_project/AutoTranscriber-recordings/adjusted/spec/MoonlightSonata_35_adjusted_1.npy\n",
            "/content/drive/My Drive/_project/AutoTranscriber-recordings/adjusted/spec/MoonlightSonata_35_adjusted_2.npy\n",
            "/content/drive/My Drive/_project/AutoTranscriber-recordings/adjusted/spec/MoonlightSonata_35_adjusted_3.npy\n",
            "/content/drive/My Drive/_project/AutoTranscriber-recordings/adjusted/spec/MoonlightSonata_35_adjusted_4.npy\n",
            "/content/drive/My Drive/_project/AutoTranscriber-recordings/adjusted/spec/MoonlightSonata_35_adjusted_5.npy"
          ],
          "name": "stdout"
        },
        {
          "output_type": "stream",
          "text": [
            "\n",
            " 44%|████▍     | 21/48 [00:46<01:16,  2.83s/it]\u001b[A"
          ],
          "name": "stderr"
        },
        {
          "output_type": "stream",
          "text": [
            "\n",
            "/content/drive/My Drive/_project/AutoTranscriber-recordings/adjusted/spec/MoonlightSonata_35_adjusted_6.npy\n",
            "/content/drive/My Drive/_project/AutoTranscriber-recordings/adjusted/spec/MoonlightSonata_35_adjusted_7.npy\n",
            "/content/drive/My Drive/_project/AutoTranscriber-recordings/adjusted/spec/MoonlightSonata_44_adjusted_1.npy\n",
            "/content/drive/My Drive/_project/AutoTranscriber-recordings/adjusted/spec/MoonlightSonata_44_adjusted_2.npy\n",
            "/content/drive/My Drive/_project/AutoTranscriber-recordings/adjusted/spec/MoonlightSonata_44_adjusted_3.npy\n",
            "/content/drive/My Drive/_project/AutoTranscriber-recordings/adjusted/spec/MoonlightSonata_44_adjusted_4.npy\n",
            "/content/drive/My Drive/_project/AutoTranscriber-recordings/adjusted/spec/MoonlightSonata_44_adjusted_5.npy\n",
            "/content/drive/My Drive/_project/AutoTranscriber-recordings/adjusted/spec/MoonlightSonata_44_adjusted_6.npy\n",
            "/content/drive/My Drive/_project/AutoTranscriber-recordings/adjusted/spec/MoonlightSonata_44_adjusted_7.npy\n",
            "/content/drive/My Drive/_project/AutoTranscriber-recordings/adjusted/spec/MoonlightSonata_44_adjusted_8.npy\n",
            "/content/drive/My Drive/_project/AutoTranscriber-recordings/adjusted/spec/MoonlightSonata_44_adjusted_9.npy\n",
            "/content/drive/My Drive/_project/AutoTranscriber-recordings/adjusted/spec/MoonlightSonata_44_adjusted_10.npy\n",
            "/content/drive/My Drive/_project/AutoTranscriber-recordings/adjusted/spec/MoonlightSonata_44_adjusted_11.npy\n",
            "/content/drive/My Drive/_project/AutoTranscriber-recordings/adjusted/spec/MoonlightSonata_44_adjusted_12.npy\n",
            "/content/drive/My Drive/_project/AutoTranscriber-recordings/adjusted/spec/MoonlightSonata_44_adjusted_13.npy\n",
            "/content/drive/My Drive/_project/AutoTranscriber-recordings/adjusted/spec/MoonlightSonata_44_adjusted_14.npy\n",
            "/content/drive/My Drive/_project/AutoTranscriber-recordings/adjusted/spec/MoonlightSonata_44_adjusted_15.npy\n"
          ],
          "name": "stdout"
        },
        {
          "output_type": "stream",
          "text": [
            "\n",
            " 46%|████▌     | 22/48 [00:51<01:31,  3.53s/it]\u001b[A"
          ],
          "name": "stderr"
        },
        {
          "output_type": "stream",
          "text": [
            "/content/drive/My Drive/_project/AutoTranscriber-recordings/adjusted/spec/MoonlightSonata_44_adjusted_16.npy\n",
            "/content/drive/My Drive/_project/AutoTranscriber-recordings/adjusted/spec/MoonlightSonata_44_adjusted_17.npy\n",
            "/content/drive/My Drive/_project/AutoTranscriber-recordings/adjusted/spec/MorningMood_1_adjusted_1.npy\n",
            "/content/drive/My Drive/_project/AutoTranscriber-recordings/adjusted/spec/MorningMood_1_adjusted_2.npy\n",
            "/content/drive/My Drive/_project/AutoTranscriber-recordings/adjusted/spec/MorningMood_1_adjusted_3.npy\n",
            "/content/drive/My Drive/_project/AutoTranscriber-recordings/adjusted/spec/MorningMood_1_adjusted_4.npy\n",
            "/content/drive/My Drive/_project/AutoTranscriber-recordings/adjusted/spec/MorningMood_1_adjusted_5.npy\n"
          ],
          "name": "stdout"
        },
        {
          "output_type": "stream",
          "text": [
            "\n",
            " 48%|████▊     | 23/48 [00:53<01:17,  3.11s/it]\u001b[A"
          ],
          "name": "stderr"
        },
        {
          "output_type": "stream",
          "text": [
            "/content/drive/My Drive/_project/AutoTranscriber-recordings/adjusted/spec/MorningMood_1_adjusted_6.npy\n",
            "/content/drive/My Drive/_project/AutoTranscriber-recordings/adjusted/spec/NocturneDflat_1_adjusted_1.npy\n",
            "/content/drive/My Drive/_project/AutoTranscriber-recordings/adjusted/spec/NocturneDflat_1_adjusted_2.npy\n",
            "/content/drive/My Drive/_project/AutoTranscriber-recordings/adjusted/spec/NocturneDflat_1_adjusted_3.npy\n",
            "/content/drive/My Drive/_project/AutoTranscriber-recordings/adjusted/spec/NocturneDflat_1_adjusted_4.npy\n",
            "/content/drive/My Drive/_project/AutoTranscriber-recordings/adjusted/spec/NocturneDflat_1_adjusted_5.npy\n"
          ],
          "name": "stdout"
        },
        {
          "output_type": "stream",
          "text": [
            "\n",
            " 50%|█████     | 24/48 [00:56<01:07,  2.82s/it]\u001b[A"
          ],
          "name": "stderr"
        },
        {
          "output_type": "stream",
          "text": [
            "/content/drive/My Drive/_project/AutoTranscriber-recordings/adjusted/spec/NocturneDflat_1_adjusted_6.npy\n",
            "/content/drive/My Drive/_project/AutoTranscriber-recordings/adjusted/spec/NocturneDflat_16_adjusted_1.npy\n",
            "/content/drive/My Drive/_project/AutoTranscriber-recordings/adjusted/spec/NocturneDflat_16_adjusted_2.npy\n",
            "/content/drive/My Drive/_project/AutoTranscriber-recordings/adjusted/spec/NocturneDflat_16_adjusted_3.npy\n",
            "/content/drive/My Drive/_project/AutoTranscriber-recordings/adjusted/spec/NocturneDflat_16_adjusted_4.npy\n",
            "/content/drive/My Drive/_project/AutoTranscriber-recordings/adjusted/spec/NocturneDflat_16_adjusted_5.npy\n"
          ],
          "name": "stdout"
        },
        {
          "output_type": "stream",
          "text": [
            "\n",
            " 52%|█████▏    | 25/48 [00:58<01:03,  2.75s/it]\u001b[A"
          ],
          "name": "stderr"
        },
        {
          "output_type": "stream",
          "text": [
            "/content/drive/My Drive/_project/AutoTranscriber-recordings/adjusted/spec/NocturneDflat_16_adjusted_6.npy\n",
            "/content/drive/My Drive/_project/AutoTranscriber-recordings/adjusted/spec/NocturneDflat_16_adjusted_7.npy\n",
            "/content/drive/My Drive/_project/AutoTranscriber-recordings/adjusted/spec/OCanada_1_adjusted_1.npy\n",
            "/content/drive/My Drive/_project/AutoTranscriber-recordings/adjusted/spec/OCanada_1_adjusted_2.npy\n",
            "/content/drive/My Drive/_project/AutoTranscriber-recordings/adjusted/spec/OCanada_1_adjusted_3.npy\n",
            "/content/drive/My Drive/_project/AutoTranscriber-recordings/adjusted/spec/OCanada_1_adjusted_4.npy\n",
            "/content/drive/My Drive/_project/AutoTranscriber-recordings/adjusted/spec/OCanada_1_adjusted_5.npy\n"
          ],
          "name": "stdout"
        },
        {
          "output_type": "stream",
          "text": [
            "\n",
            " 54%|█████▍    | 26/48 [01:01<01:00,  2.76s/it]\u001b[A"
          ],
          "name": "stderr"
        },
        {
          "output_type": "stream",
          "text": [
            "/content/drive/My Drive/_project/AutoTranscriber-recordings/adjusted/spec/OCanada_1_adjusted_6.npy\n",
            "/content/drive/My Drive/_project/AutoTranscriber-recordings/adjusted/spec/OCanada_1_adjusted_7.npy\n"
          ],
          "name": "stdout"
        },
        {
          "output_type": "stream",
          "text": [
            "\n",
            " 56%|█████▋    | 27/48 [01:03<00:53,  2.56s/it]\u001b[A"
          ],
          "name": "stderr"
        },
        {
          "output_type": "stream",
          "text": [
            "/content/drive/My Drive/_project/AutoTranscriber-recordings/adjusted/spec/Prelude(Bach)_1_adjusted_1.npy\n",
            "/content/drive/My Drive/_project/AutoTranscriber-recordings/adjusted/spec/Prelude(Bach)_1_adjusted_2.npy\n",
            "/content/drive/My Drive/_project/AutoTranscriber-recordings/adjusted/spec/Prelude(Bach)_1_adjusted_3.npy\n",
            "/content/drive/My Drive/_project/AutoTranscriber-recordings/adjusted/spec/Prelude(Bach)_1_adjusted_4.npy\n",
            "/content/drive/My Drive/_project/AutoTranscriber-recordings/adjusted/spec/Prelude(Bach)_1_adjusted_5.npy\n"
          ],
          "name": "stdout"
        },
        {
          "output_type": "stream",
          "text": [
            "\n",
            " 58%|█████▊    | 28/48 [01:05<00:47,  2.35s/it]\u001b[A"
          ],
          "name": "stderr"
        },
        {
          "output_type": "stream",
          "text": [
            "/content/drive/My Drive/_project/AutoTranscriber-recordings/adjusted/spec/Prelude(Bach)_13_adjusted_1.npy\n",
            "/content/drive/My Drive/_project/AutoTranscriber-recordings/adjusted/spec/Prelude(Bach)_13_adjusted_2.npy\n",
            "/content/drive/My Drive/_project/AutoTranscriber-recordings/adjusted/spec/Prelude(Bach)_13_adjusted_3.npy\n",
            "/content/drive/My Drive/_project/AutoTranscriber-recordings/adjusted/spec/Prelude(Bach)_13_adjusted_4.npy\n"
          ],
          "name": "stdout"
        },
        {
          "output_type": "stream",
          "text": [
            "\n",
            " 60%|██████    | 29/48 [01:06<00:40,  2.11s/it]\u001b[A"
          ],
          "name": "stderr"
        },
        {
          "output_type": "stream",
          "text": [
            "/content/drive/My Drive/_project/AutoTranscriber-recordings/adjusted/spec/PreludeinGminor_1_adjusted_1.npy\n",
            "/content/drive/My Drive/_project/AutoTranscriber-recordings/adjusted/spec/PreludeinGminor_1_adjusted_2.npy\n",
            "/content/drive/My Drive/_project/AutoTranscriber-recordings/adjusted/spec/PreludeinGminor_1_adjusted_3.npy\n",
            "/content/drive/My Drive/_project/AutoTranscriber-recordings/adjusted/spec/PreludeinGminor_1_adjusted_4.npy\n"
          ],
          "name": "stdout"
        },
        {
          "output_type": "stream",
          "text": [
            "\n",
            " 62%|██████▎   | 30/48 [01:08<00:35,  1.98s/it]\u001b[A"
          ],
          "name": "stderr"
        },
        {
          "output_type": "stream",
          "text": [
            "/content/drive/My Drive/_project/AutoTranscriber-recordings/adjusted/spec/Quadrille_1_adjusted_1.npy\n",
            "/content/drive/My Drive/_project/AutoTranscriber-recordings/adjusted/spec/Quadrille_1_adjusted_2.npy\n",
            "/content/drive/My Drive/_project/AutoTranscriber-recordings/adjusted/spec/Quadrille_1_adjusted_3.npy\n"
          ],
          "name": "stdout"
        },
        {
          "output_type": "stream",
          "text": [
            "\n",
            " 65%|██████▍   | 31/48 [01:10<00:32,  1.91s/it]\u001b[A"
          ],
          "name": "stderr"
        },
        {
          "output_type": "stream",
          "text": [
            "/content/drive/My Drive/_project/AutoTranscriber-recordings/adjusted/spec/Spongebob_1_adjusted_1.npy\n",
            "/content/drive/My Drive/_project/AutoTranscriber-recordings/adjusted/spec/Spongebob_1_adjusted_2.npy\n",
            "/content/drive/My Drive/_project/AutoTranscriber-recordings/adjusted/spec/Spongebob_1_adjusted_3.npy\n",
            "/content/drive/My Drive/_project/AutoTranscriber-recordings/adjusted/spec/Spongebob_1_adjusted_4.npy\n",
            "/content/drive/My Drive/_project/AutoTranscriber-recordings/adjusted/spec/TheLark_1_adjusted_1.npy\n",
            "/content/drive/My Drive/_project/AutoTranscriber-recordings/adjusted/spec/TheLark_1_adjusted_2.npy\n",
            "/content/drive/My Drive/_project/AutoTranscriber-recordings/adjusted/spec/TheLark_1_adjusted_3.npy\n",
            "/content/drive/My Drive/_project/AutoTranscriber-recordings/adjusted/spec/TheLark_1_adjusted_4.npy\n",
            "/content/drive/My Drive/_project/AutoTranscriber-recordings/adjusted/spec/TheLark_1_adjusted_5.npy\n",
            "/content/drive/My Drive/_project/AutoTranscriber-recordings/adjusted/spec/TheLark_1_adjusted_6.npy\n",
            "/content/drive/My Drive/_project/AutoTranscriber-recordings/adjusted/spec/TheLark_1_adjusted_7.npy\n",
            "/content/drive/My Drive/_project/AutoTranscriber-recordings/adjusted/spec/TheLark_1_adjusted_8.npy\n",
            "/content/drive/My Drive/_project/AutoTranscriber-recordings/adjusted/spec/TheLark_1_adjusted_9.npy\n",
            "/content/drive/My Drive/_project/AutoTranscriber-recordings/adjusted/spec/TheLark_1_adjusted_10.npy\n"
          ],
          "name": "stdout"
        },
        {
          "output_type": "stream",
          "text": [
            "\n",
            " 67%|██████▋   | 32/48 [01:14<00:39,  2.44s/it]\u001b[A"
          ],
          "name": "stderr"
        },
        {
          "output_type": "stream",
          "text": [
            "/content/drive/My Drive/_project/AutoTranscriber-recordings/adjusted/spec/TheLark_1_adjusted_11.npy\n",
            "/content/drive/My Drive/_project/AutoTranscriber-recordings/adjusted/spec/TheLark_1_adjusted_12.npy\n",
            "/content/drive/My Drive/_project/AutoTranscriber-recordings/adjusted/spec/TheLark_13_adjusted_1.npy\n",
            "/content/drive/My Drive/_project/AutoTranscriber-recordings/adjusted/spec/TheLark_13_adjusted_2.npy\n",
            "/content/drive/My Drive/_project/AutoTranscriber-recordings/adjusted/spec/TheLark_13_adjusted_3.npy\n",
            "/content/drive/My Drive/_project/AutoTranscriber-recordings/adjusted/spec/TheLark_13_adjusted_4.npy\n",
            "/content/drive/My Drive/_project/AutoTranscriber-recordings/adjusted/spec/TheLark_13_adjusted_5.npy\n"
          ],
          "name": "stdout"
        },
        {
          "output_type": "stream",
          "text": [
            "\n",
            " 69%|██████▉   | 33/48 [01:16<00:34,  2.33s/it]\u001b[A"
          ],
          "name": "stderr"
        },
        {
          "output_type": "stream",
          "text": [
            "/content/drive/My Drive/_project/AutoTranscriber-recordings/adjusted/spec/TheLark_13_adjusted_6.npy\n"
          ],
          "name": "stdout"
        },
        {
          "output_type": "stream",
          "text": [
            "\n",
            " 71%|███████   | 34/48 [01:17<00:29,  2.12s/it]\u001b[A"
          ],
          "name": "stderr"
        },
        {
          "output_type": "stream",
          "text": [
            "/content/drive/My Drive/_project/AutoTranscriber-recordings/adjusted/spec/Air_1_adjusted_1.npy\n",
            "/content/drive/My Drive/_project/AutoTranscriber-recordings/adjusted/spec/Air_1_adjusted_2.npy\n",
            "/content/drive/My Drive/_project/AutoTranscriber-recordings/adjusted/spec/Air_1_adjusted_3.npy\n"
          ],
          "name": "stdout"
        },
        {
          "output_type": "stream",
          "text": [
            "\n",
            " 73%|███████▎  | 35/48 [01:19<00:25,  1.95s/it]\u001b[A"
          ],
          "name": "stderr"
        },
        {
          "output_type": "stream",
          "text": [
            "/content/drive/My Drive/_project/AutoTranscriber-recordings/adjusted/spec/Aria_1_adjusted_1.npy\n",
            "/content/drive/My Drive/_project/AutoTranscriber-recordings/adjusted/spec/Aria_1_adjusted_2.npy\n",
            "/content/drive/My Drive/_project/AutoTranscriber-recordings/adjusted/spec/Aria_1_adjusted_3.npy\n",
            "/content/drive/My Drive/_project/AutoTranscriber-recordings/adjusted/spec/Aria_1_adjusted_4.npy\n"
          ],
          "name": "stdout"
        },
        {
          "output_type": "stream",
          "text": [
            "\n",
            "100%|██████████| 48/48 [01:21<00:00,  1.69s/it]"
          ],
          "name": "stderr"
        },
        {
          "output_type": "stream",
          "text": [
            "/content/drive/My Drive/_project/AutoTranscriber-recordings/adjusted/spec/CanonInD_1_adjusted_1.npy\n",
            "/content/drive/My Drive/_project/AutoTranscriber-recordings/adjusted/spec/CanonInD_1_adjusted_2.npy\n",
            "/content/drive/My Drive/_project/AutoTranscriber-recordings/adjusted/spec/CanonInD_1_adjusted_3.npy\n",
            "/content/drive/My Drive/_project/AutoTranscriber-recordings/adjusted/spec/CanonInD_1_adjusted_4.npy\n"
          ],
          "name": "stdout"
        },
        {
          "output_type": "stream",
          "text": [
            "\n"
          ],
          "name": "stderr"
        }
      ]
    },
    {
      "cell_type": "code",
      "metadata": {
        "id": "cGlfW2fcu47R"
      },
      "source": [
        ""
      ],
      "execution_count": null,
      "outputs": []
    },
    {
      "cell_type": "code",
      "metadata": {
        "id": "CT-AE97yQL9m"
      },
      "source": [
        "for file in tqdm(os.listdir(path)):\n",
        "\n",
        "    if file.endswith('.wav'):\n",
        "    \n",
        "        # Load WAV file\n",
        "        audio, _ = librosa.core.load(file, sr=sampling_rate)\n",
        "        \n",
        "        # Compute spectrogram on each partition of the song and save it\n",
        "        num_partitions = int(len(audio)/sampling_rate/partition_size)\n",
        "        for i in range(num_partitions):\n",
        "            \n",
        "            audio_start = i*partition_size*sampling_rate\n",
        "            audio_end = (i+1)*partition_size*sampling_rate\n",
        "            mel_spec = librosa.feature.melspectrogram(y=audio[audio_start:audio_end], sr=sampling_rate, \n",
        "                                                      n_mels=num_freq_bins)\n",
        "            log_mel_spec = librosa.power_to_db(mel_spec) # compute the log of the amplitudes\n",
        "            \n",
        "            with open(file[:-4] + '_' + str(i+1) + '.npy', 'wb') as np_file:\n",
        "                file_path = os.path.join(path, np_file)\n",
        "                print(file_path)\n",
        "                np.save(np_file, log_mel_spec)"
      ],
      "execution_count": null,
      "outputs": []
    },
    {
      "cell_type": "code",
      "metadata": {
        "id": "aHXF5OcaQt8I"
      },
      "source": [
        "for file in tqdm(os.listdir(path)):\n",
        "\n",
        "    if file.endswith('.mid'):\n",
        "    \n",
        "        # Load MIDI file\n",
        "        midi = pretty_midi.PrettyMIDI(os.path.join(path,file))\n",
        "        piano_notes = midi.get_piano_roll()\n",
        "        \n",
        "        # Get each partition of the MIDI and save it\n",
        "        num_partitions = int(piano_notes.shape[1]/sampling_frequency/partition_size)\n",
        "        for i in range(num_partitions):\n",
        "            \n",
        "            audio_start = i*partition_size*sampling_frequency\n",
        "            audio_end = (i+1)*partition_size*sampling_frequency\n",
        "            piano_clip = piano_notes[:, audio_start:audio_end]\n",
        "            \n",
        "            # convert piano roll clip to midi\n",
        "            midi_clip = piano_roll_to_pretty_midi(piano_clip)\n",
        "            midi_clip.write(os.path.join(path,file[:-4]+\"_\"+str(i+1)+\".mid\"))"
      ],
      "execution_count": null,
      "outputs": []
    }
  ]
}