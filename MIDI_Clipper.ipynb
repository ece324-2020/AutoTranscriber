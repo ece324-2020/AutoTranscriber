{
 "cells": [
  {
   "cell_type": "markdown",
   "metadata": {},
   "source": [
    "This notebook partitions MIDI files and saves them."
   ]
  },
  {
   "cell_type": "code",
   "execution_count": 1,
   "metadata": {},
   "outputs": [],
   "source": [
    "# Load libraries\n",
    "\n",
    "import os\n",
    "import numpy as np\n",
    "import pretty_midi\n",
    "from reverse_pianoroll import *\n",
    "from tqdm import tqdm"
   ]
  },
  {
   "cell_type": "code",
   "execution_count": 6,
   "metadata": {},
   "outputs": [],
   "source": [
    "# User parameters\n",
    "\n",
    "path = os.getcwd()\n",
    "sampling_frequency = 31.3 # 100 is default (pretty midi); sampling rate for MIDI files\n",
    "partition_size = 20 # number of seconds each partition of the song should be"
   ]
  },
  {
   "cell_type": "markdown",
   "metadata": {},
   "source": [
    "### Processing MIDI Files"
   ]
  },
  {
   "cell_type": "code",
   "execution_count": 8,
   "metadata": {
    "scrolled": true
   },
   "outputs": [
    {
     "name": "stderr",
     "output_type": "stream",
     "text": [
      "100%|███████████████████████████████████████████████████████████████████████████████████| 3/3 [00:00<00:00, 103.85it/s]\n"
     ]
    }
   ],
   "source": [
    "for file in tqdm(os.listdir(path)):\n",
    "\n",
    "    if file.endswith('.mid'):\n",
    "    \n",
    "        # Load MIDI file\n",
    "        midi = pretty_midi.PrettyMIDI(os.path.join(path,file))\n",
    "        piano_notes = midi.get_piano_roll(fs=sampling_frequency)\n",
    "        \n",
    "        # Get each partition of the MIDI and save it\n",
    "        num_partitions = int(piano_notes.shape[1]/sampling_frequency/partition_size)\n",
    "        for i in range(num_partitions):\n",
    "            \n",
    "            audio_start = int(i*partition_size*sampling_frequency)\n",
    "            audio_end = int((i+1)*partition_size*sampling_frequency)\n",
    "            piano_clip = piano_notes[:, audio_start:audio_end]\n",
    "            \n",
    "            # convert piano roll clip to midi\n",
    "            midi_clip = piano_roll_to_pretty_midi(piano_clip, fs=sampling_frequency)\n",
    "            midi_clip.write(os.path.join(path,file[:-4]+\"_\"+str(i+1)+\".mid\"))"
   ]
  },
  {
   "cell_type": "markdown",
   "metadata": {},
   "source": [
    "Saved spectrograms will be used as inputs to the network."
   ]
  }
 ],
 "metadata": {
  "kernelspec": {
   "display_name": "Python 3",
   "language": "python",
   "name": "python3"
  },
  "language_info": {
   "codemirror_mode": {
    "name": "ipython",
    "version": 3
   },
   "file_extension": ".py",
   "mimetype": "text/x-python",
   "name": "python",
   "nbconvert_exporter": "python",
   "pygments_lexer": "ipython3",
   "version": "3.7.5"
  }
 },
 "nbformat": 4,
 "nbformat_minor": 4
}
