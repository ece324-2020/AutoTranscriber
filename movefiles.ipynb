{
  "nbformat": 4,
  "nbformat_minor": 0,
  "metadata": {
    "colab": {
      "name": "movefiles.ipynb",
      "provenance": [],
      "collapsed_sections": []
    },
    "kernelspec": {
      "name": "python3",
      "display_name": "Python 3"
    }
  },
  "cells": [
    {
      "cell_type": "code",
      "metadata": {
        "colab": {
          "base_uri": "https://localhost:8080/"
        },
        "id": "or23qiNCF03c",
        "outputId": "fd9c9f22-600b-44fe-b923-ba0cb0729752"
      },
      "source": [
        "from google.colab import drive\n",
        "import os\n",
        "import glob\n",
        "from pathlib import Path\n",
        "drive.mount('/content/drive')\n",
        "root = '/content/drive/My Drive/_Y3/ECE324_project/kats_data'\n",
        "os.chdir(root)\n",
        "label_path = '/content/drive/My Drive/_Y3/ECE324_project/kats_data/label' "
      ],
      "execution_count": null,
      "outputs": [
        {
          "output_type": "stream",
          "text": [
            "Drive already mounted at /content/drive; to attempt to forcibly remount, call drive.mount(\"/content/drive\", force_remount=True).\n"
          ],
          "name": "stdout"
        }
      ]
    },
    {
      "cell_type": "code",
      "metadata": {
        "colab": {
          "base_uri": "https://localhost:8080/"
        },
        "id": "mzL2etm6Ulnw",
        "outputId": "b09f72cb-c4b1-4e73-a0c9-d3768af447c2"
      },
      "source": [
        "drive.mount(\"/content/drive\", force_remount=True)"
      ],
      "execution_count": null,
      "outputs": [
        {
          "output_type": "stream",
          "text": [
            "Mounted at /content/drive\n"
          ],
          "name": "stdout"
        }
      ]
    },
    {
      "cell_type": "code",
      "metadata": {
        "colab": {
          "base_uri": "https://localhost:8080/"
        },
        "id": "tHROswmjLGlO",
        "outputId": "5025a0fa-8a1b-4d15-f6a2-2fb09256e99f"
      },
      "source": [
        "my_file = Path(\"/content/drive/My Drive/_Y3/ECE324_project/kats_data/label/Air_1_1.mid\")\n",
        "print(my_file)\n",
        "if my_file.is_file():\n",
        "  print('h')"
      ],
      "execution_count": null,
      "outputs": [
        {
          "output_type": "stream",
          "text": [
            "/content/drive/My Drive/_Y3/ECE324_project/kats_data/label/Air_1_1.mid\n",
            "h\n"
          ],
          "name": "stdout"
        }
      ]
    },
    {
      "cell_type": "code",
      "metadata": {
        "id": "0mDY6dlDNpWZ"
      },
      "source": [
        "os.chdir(test_path)\n",
        "for file in glob.glob(\"**/*.npy\", recursive = True):\n",
        "  split = file.split('_adjusted')\n",
        "  new_name = os.path.join(split[0] + split[1])\n",
        "  os.rename(file, new_name)"
      ],
      "execution_count": null,
      "outputs": []
    },
    {
      "cell_type": "code",
      "metadata": {
        "colab": {
          "base_uri": "https://localhost:8080/"
        },
        "id": "6-dYhs3LHqM2",
        "outputId": "805c492f-acc5-4244-eed4-48756607af67"
      },
      "source": [
        "os.chdir(label_path)\n",
        "\n",
        "train_path = '/content/drive/My Drive/_Y3/ECE324_project/kats_data/train/data'\n",
        "valid_path = '/content/drive/My Drive/_Y3/ECE324_project/kats_data/valid/data'\n",
        "test_path = '/content/drive/My Drive/_Y3/ECE324_project/kats_data/test/data'\n",
        "\n",
        "count_train = 0\n",
        "count_valid = 0\n",
        "count_test = 0\n",
        "name_list = []\n",
        "count = 0\n",
        "for file in glob.glob(\"**/*.mid\", recursive = True):\n",
        "  #print(file)\n",
        "  name = os.path.splitext(file)[0]\n",
        "  npy_name = os.path.join(name + '.npy')\n",
        "  train_npy_path = os.path.join(train_path, npy_name)\n",
        "  valid_npy_path = os.path.join(valid_path, npy_name)\n",
        "  test_npy_path = os.path.join(test_path, npy_name)\n",
        "  label_mid_path = os.path.join(label_path, file)\n",
        "  #print(label_mid_path)\n",
        "  train_file = Path(train_npy_path)\n",
        "  #print(train_file)\n",
        "  valid_file = Path(valid_npy_path)\n",
        "  test_file = Path(test_npy_path)\n",
        "  train_mid_file = os.path.join('/content/drive/My Drive/_Y3/ECE324_project/kats_data/train/label', file)\n",
        "  valid_mid_file = os.path.join('/content/drive/My Drive/_Y3/ECE324_project/kats_data/valid/label', file)\n",
        "  test_mid_file = os.path.join('/content/drive/My Drive/_Y3/ECE324_project/kats_data/test/label', file)\n",
        "  if train_file.is_file():\n",
        "    count_train += 1\n",
        "    os.rename(label_mid_path, train_mid_file)\n",
        "  elif valid_file.is_file():\n",
        "    count_valid += 1\n",
        "    os.rename(label_mid_path, valid_mid_file)\n",
        "  elif test_file.is_file():\n",
        "    count_test += 1\n",
        "    os.rename(label_mid_path, test_mid_file)\n",
        "  \n",
        "  \n",
        "\n",
        "print(count_train)\n",
        "print(count_valid)\n",
        "print(count_test)"
      ],
      "execution_count": null,
      "outputs": [
        {
          "output_type": "stream",
          "text": [
            "0\n",
            "0\n",
            "0\n"
          ],
          "name": "stdout"
        }
      ]
    },
    {
      "cell_type": "code",
      "metadata": {
        "colab": {
          "base_uri": "https://localhost:8080/"
        },
        "id": "AqSwHP-eF6MM",
        "outputId": "41c6f2b8-1701-40dd-a0aa-80e5e4ea6e91"
      },
      "source": [
        "#check:\n",
        "\n",
        "os.chdir('/content/drive/My Drive/_Y3/ECE324_project/kats_data/train/data')\n",
        "train_list_d = []\n",
        "train_list_l = []\n",
        "\n",
        "for file in glob.glob(\"**/*.npy\", recursive = True):\n",
        "  name = os.path.splitext(file)[0]\n",
        "  train_list_d.append(name)\n",
        "train_list_d.sort()\n",
        "\n",
        "os.chdir('/content/drive/My Drive/_Y3/ECE324_project/kats_data/train/label')\n",
        "\n",
        "for file in glob.glob(\"**/*.mid\", recursive = True):\n",
        "  name = os.path.splitext(file)[0]\n",
        "  train_list_l.append(name)\n",
        "train_list_l.sort()\n",
        "\n",
        "#print(train_list_d)\n",
        "#print(len(train_list_d))\n",
        "\n",
        "#print(train_list_l)\n",
        "#print(len(train_list_l))\n",
        "\n",
        "remainder = list(set(train_list_d) - set(train_list_l))\n",
        "remainder.sort()\n",
        "#print(remainder)\n",
        "\n",
        "#print(len(remainder))\n",
        "\n",
        "\n",
        "\n",
        "#print(train_list_d)\n",
        "print(len(train_list_d))\n",
        "\n",
        "#print(train_list_l)\n",
        "print(len(train_list_l))\n",
        "\n",
        "remainder2 = list(set(train_list_l) - set(train_list_d))\n",
        "#print(remainder2)"
      ],
      "execution_count": null,
      "outputs": [
        {
          "output_type": "stream",
          "text": [
            "209\n",
            "191\n"
          ],
          "name": "stdout"
        }
      ]
    },
    {
      "cell_type": "code",
      "metadata": {
        "id": "48DOFQrFHo6P"
      },
      "source": [
        ""
      ],
      "execution_count": null,
      "outputs": []
    }
  ]
}