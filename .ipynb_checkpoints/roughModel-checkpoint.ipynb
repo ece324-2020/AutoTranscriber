{
 "cells": [
  {
   "cell_type": "code",
   "execution_count": 131,
   "metadata": {},
   "outputs": [],
   "source": [
    "import torch \n",
    "import torch.nn.functional as F \n",
    "from torch import nn \n",
    "from torchsummary import summary"
   ]
  },
  {
   "cell_type": "code",
   "execution_count": 130,
   "metadata": {},
   "outputs": [],
   "source": [
    "class basicNet(nn.Module): \n",
    "    def __init__(self, num_kernels=40):\n",
    "        super().__init__() \n",
    "        \n",
    "        self.cnn = nn.Sequential(\n",
    "            # input 229x626\n",
    "            nn.Conv2d(1, 10, (3, 3), padding=1),\n",
    "            nn.BatchNorm2d(10), \n",
    "            nn.ReLU(), \n",
    "            # current shape 229x10x626\n",
    "            nn.Conv2d(10, 10, (3, 3), padding=1), \n",
    "            nn.BatchNorm2d(10), \n",
    "            nn.ReLU(), \n",
    "            nn.MaxPool2d((4, 1)), \n",
    "            nn.Dropout(0.25), \n",
    "            # current shape 57x626x10\n",
    "            nn.Conv2d(10, 20, (3, 3), padding=1), \n",
    "            nn.BatchNorm2d(20), \n",
    "            nn.ReLU(), \n",
    "            nn.MaxPool2d((2, 1)), \n",
    "            nn.Dropout(0.25), \n",
    "            # current shape 28x626x20\n",
    "        )\n",
    "    \n",
    "        self.fc = nn.Sequential(\n",
    "            nn.Linear((626*20*28), 5000),\n",
    "            nn.Dropout(0.5),\n",
    "        )\n",
    "        \n",
    "    def forward(self, x):\n",
    "        print(\"hello!\")\n",
    "        print(x.shape)\n",
    "        x = self.cnn(x)\n",
    "        print(x.shape)\n",
    "        x = x.transpose(1, 3).flatten(-3)\n",
    "        print(x.shape)\n",
    "        x = self.fc(x)\n",
    "        print(x.shape)\n",
    "        return x\n",
    "        "
   ]
  },
  {
   "cell_type": "code",
   "execution_count": null,
   "metadata": {},
   "outputs": [],
   "source": [
    "inp = torch.randn(1, 1, 229, 626)\n",
    "inp2 = torch.randn(1, 626, 14*40)\n",
    "model = basicNet()\n",
    "res = model(inp)"
   ]
  },
  {
   "cell_type": "code",
   "execution_count": 134,
   "metadata": {},
   "outputs": [
    {
     "name": "stdout",
     "output_type": "stream",
     "text": [
      "hello!\n",
      "torch.Size([2, 1, 229, 626])\n",
      "torch.Size([2, 20, 28, 626])\n",
      "torch.Size([2, 350560])\n",
      "torch.Size([2, 5000])\n",
      "----------------------------------------------------------------\n",
      "        Layer (type)               Output Shape         Param #\n",
      "================================================================\n",
      "            Conv2d-1         [-1, 10, 229, 626]             100\n",
      "       BatchNorm2d-2         [-1, 10, 229, 626]              20\n",
      "              ReLU-3         [-1, 10, 229, 626]               0\n",
      "            Conv2d-4         [-1, 10, 229, 626]             910\n",
      "       BatchNorm2d-5         [-1, 10, 229, 626]              20\n",
      "              ReLU-6         [-1, 10, 229, 626]               0\n",
      "         MaxPool2d-7          [-1, 10, 57, 626]               0\n",
      "           Dropout-8          [-1, 10, 57, 626]               0\n",
      "            Conv2d-9          [-1, 20, 57, 626]           1,820\n",
      "      BatchNorm2d-10          [-1, 20, 57, 626]              40\n",
      "             ReLU-11          [-1, 20, 57, 626]               0\n",
      "        MaxPool2d-12          [-1, 20, 28, 626]               0\n",
      "          Dropout-13          [-1, 20, 28, 626]               0\n",
      "           Linear-14                 [-1, 5000]   1,752,805,000\n",
      "          Dropout-15                 [-1, 5000]               0\n",
      "================================================================\n",
      "Total params: 1,752,807,910\n",
      "Trainable params: 1,752,807,910\n",
      "Non-trainable params: 0\n",
      "----------------------------------------------------------------\n",
      "Input size (MB): 0.55\n",
      "Forward/backward pass size (MB): 92.83\n",
      "Params size (MB): 6686.43\n",
      "Estimated Total Size (MB): 6779.80\n",
      "----------------------------------------------------------------\n"
     ]
    }
   ],
   "source": [
    "summary(model, (1, 229, 626))"
   ]
  },
  {
   "cell_type": "code",
   "execution_count": 61,
   "metadata": {},
   "outputs": [
    {
     "name": "stdout",
     "output_type": "stream",
     "text": [
      "torch.Size([1, 1, 229, 626])\n",
      "torch.Size([1, 1, 626, 229])\n"
     ]
    }
   ],
   "source": [
    "x = torch.randn(1, 1, 229, 626)\n",
    "print(x.shape)\n",
    "print(torch.transpose(x, 2, 3).shape)"
   ]
  },
  {
   "cell_type": "code",
   "execution_count": 62,
   "metadata": {},
   "outputs": [
    {
     "name": "stdout",
     "output_type": "stream",
     "text": [
      "tensor([[[[ 0.4273,  0.4385, -0.4127,  ..., -0.3558,  0.9284, -1.0684],\n",
      "          [-0.9351, -0.6404, -1.0334,  ...,  1.0659,  0.5425, -0.8897],\n",
      "          [ 0.5311, -1.0317, -0.9953,  ...,  1.0791,  0.7940, -0.8141],\n",
      "          ...,\n",
      "          [-0.0255, -0.4855,  1.0145,  ...,  0.0353,  0.1047, -0.2250],\n",
      "          [ 1.0807,  1.8722,  0.5847,  ..., -1.1226,  0.6154,  0.4500],\n",
      "          [-0.4431, -0.0150,  1.6142,  ..., -0.7368, -1.1152, -0.0807]]]])\n",
      "torch.Size([1, 1, 229, 626])\n",
      "tensor([[[[ 0.4273, -0.9351,  0.5311,  ..., -0.0255,  1.0807, -0.4431],\n",
      "          [ 0.4385, -0.6404, -1.0317,  ..., -0.4855,  1.8722, -0.0150],\n",
      "          [-0.4127, -1.0334, -0.9953,  ...,  1.0145,  0.5847,  1.6142],\n",
      "          ...,\n",
      "          [-0.3558,  1.0659,  1.0791,  ...,  0.0353, -1.1226, -0.7368],\n",
      "          [ 0.9284,  0.5425,  0.7940,  ...,  0.1047,  0.6154, -1.1152],\n",
      "          [-1.0684, -0.8897, -0.8141,  ..., -0.2250,  0.4500, -0.0807]]]])\n",
      "torch.Size([1, 1, 626, 229])\n"
     ]
    }
   ],
   "source": [
    "inp = torch.randn(1, 1, 229, 626)\n",
    "print(inp)\n",
    "print(inp.shape)\n",
    "inpMod = inp.transpose(2, 3)\n",
    "print(inpMod) \n",
    "print(inpMod.shape)\n"
   ]
  },
  {
   "cell_type": "code",
   "execution_count": null,
   "metadata": {},
   "outputs": [],
   "source": []
  }
 ],
 "metadata": {
  "kernelspec": {
   "display_name": "Python [conda env:ece324] *",
   "language": "python",
   "name": "conda-env-ece324-py"
  },
  "language_info": {
   "codemirror_mode": {
    "name": "ipython",
    "version": 3
   },
   "file_extension": ".py",
   "mimetype": "text/x-python",
   "name": "python",
   "nbconvert_exporter": "python",
   "pygments_lexer": "ipython3",
   "version": "3.8.5"
  }
 },
 "nbformat": 4,
 "nbformat_minor": 4
}
