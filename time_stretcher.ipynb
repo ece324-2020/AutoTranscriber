{
  "nbformat": 4,
  "nbformat_minor": 0,
  "metadata": {
    "colab": {
      "name": "time_stretcher",
      "provenance": [],
      "collapsed_sections": []
    },
    "kernelspec": {
      "name": "python3",
      "display_name": "Python 3"
    }
  },
  "cells": [
    {
      "cell_type": "code",
      "metadata": {
        "id": "sq9177XEI4Cs"
      },
      "source": [
        "from google.colab import drive\n",
        "import os\n",
        "drive.mount('/content/drive')\n",
        "root = '/content/drive/My Drive/AutoTranscriber-recordings'\n",
        "os.chdir(root)"
      ],
      "execution_count": null,
      "outputs": []
    },
    {
      "cell_type": "code",
      "metadata": {
        "id": "gVKMbovnKH1_"
      },
      "source": [
        "wav_list = []\n",
        "for file in os.listdir(root):\n",
        "    if file.endswith(\".wav\"):\n",
        "        wav_list.append(file)\n",
        "wav_list.sort()"
      ],
      "execution_count": 17,
      "outputs": []
    },
    {
      "cell_type": "code",
      "metadata": {
        "id": "eWPn-OCjNtWk"
      },
      "source": [
        "tempo_list = [90, 85, 100, 100, 100, 122, 90, 98, 90, 110, 110, 120, 80, 56, 56, 56, 115, 115, 90, 100, 144, 44, 44, 44, 44, 60, 32, 32, 120, 65, 65, 108, 120, 120, 57, 57]\n",
        "est_tempo_list = [89, 84, 65, 65, 65, 122, 94, 90, 90, 110, 110, 120, 80, 56, 56, 56, 115, 115, 90, 100, 120, 41, 41, 41, 41, 50, 30, 30, 122, 60, 60, 65, 120, 119, 56, 56]"
      ],
      "execution_count": 16,
      "outputs": []
    },
    {
      "cell_type": "code",
      "metadata": {
        "id": "7tYDKnz1DS9-"
      },
      "source": [
        "root_adj = os.path.join(root + \"/adjusted/\")\n",
        "import librosa\n",
        "for i, wav_file in enumerate(wav_list):\n",
        "  file_name, file_ext = os.path.splitext(wav_file)\n",
        "  print(file_name)\n",
        "  old_path = file_name # WAV file to adjust\n",
        "  new_path = os.path.join(root_adj + file_name + \"_adjusted\" + file_ext) # output WAV file\n",
        "  tempo = tempo_list[i] # adjust WAV file's tempo to this tempo\n",
        "  song, sr = librosa.load(wav_file) # load audio data, sampling rate\n",
        "  #est_tempo = librosa.beat.tempo(y=song)[0]\n",
        "  est_tempo = est_tempo_list[i]\n",
        "  #print('Estimated tempo of song:', est_tempo)\n",
        "\n",
        "  # Time stretch audio file so its tempo matches the MIDI file's\n",
        "  new_song = librosa.effects.time_stretch(song, tempo/est_tempo)\n",
        "  librosa.output.write_wav(new_path, new_song, sr=sr)"
      ],
      "execution_count": null,
      "outputs": []
    }
  ]
}